{
 "cells": [
  {
   "cell_type": "markdown",
   "metadata": {},
   "source": [
    "# Image Classification 3D\n",
    "\n",
    "> SynapseMNIST3D dataset demo\n"
   ]
  },
  {
   "cell_type": "code",
   "execution_count": null,
   "metadata": {},
   "outputs": [],
   "source": [
    "#| default_exp tutorial_classification_3D"
   ]
  },
  {
   "cell_type": "markdown",
   "metadata": {},
   "source": [
    "### Setup imports"
   ]
  },
  {
   "cell_type": "code",
   "execution_count": null,
   "metadata": {},
   "outputs": [],
   "source": [
    "from bioMONAI.data import *\n",
    "from bioMONAI.transforms import *\n",
    "from bioMONAI.core import *\n",
    "from bioMONAI.core import Path\n",
    "from bioMONAI.losses import *\n",
    "from bioMONAI.metrics import *\n",
    "from bioMONAI.datasets import download_medmnist\n",
    "from bioMONAI.visualize import show_images_grid, mosaic_image_3d\n",
    "from bioMONAI.data import get_image_files"
   ]
  },
  {
   "cell_type": "code",
   "execution_count": null,
   "metadata": {},
   "outputs": [
    {
     "name": "stdout",
     "output_type": "stream",
     "text": [
      "cuda\n"
     ]
    }
   ],
   "source": [
    "device = get_device()\n",
    "print(device)"
   ]
  },
  {
   "cell_type": "markdown",
   "metadata": {},
   "source": [
    "### Download and store the dataset"
   ]
  },
  {
   "cell_type": "markdown",
   "metadata": {},
   "source": [
    "These lines of code will download the SynapseMNIST3D dataset and set up the paths for training, validation, and test datasets. \n",
    "\n",
    "The `download_medmnist` function is used to download the dataset, and the paths are organized to easily access different parts of the dataset for training, validation, and testing purposes. The `data_path` is updated to point to the 'synapsemnist3d' directory, and then separate paths are created for the 'train', 'val', and 'test' subdirectories. This organization helps in easily accessing the different parts of the dataset for training, validation, and testing purposes.\n",
    "\n",
    "You can customize the `data_flag` to download different datasets available in the MedMNIST collection. Additionally, you can modify the `data_path` to change the location where the dataset is stored. \n",
    "If you have a specific directory structure in mind, ensure that the paths for `train_path`, `val_path`, and `test_path` correctly reflect your desired organization. This flexibility allows you to adapt the code to various datasets and storage requirements."
   ]
  },
  {
   "cell_type": "code",
   "execution_count": null,
   "metadata": {},
   "outputs": [
    {
     "name": "stdout",
     "output_type": "stream",
     "text": [
      "Dataset 'synapsemnist3d' is already downloaded and available in '../_data/medmnist_data/synapsemnist3d'.\n"
     ]
    }
   ],
   "source": [
    "data_flag = 'synapsemnist3d'\n",
    "data_path = Path('../_data/medmnist_data/')\n",
    "\n",
    "info = download_medmnist(data_flag, data_path, download_only=True)\n",
    "\n",
    "data_path = data_path/'synapsemnist3d'\n",
    "train_path = data_path/'train'\n",
    "val_path = data_path/'val'\n",
    "test_path = data_path/'test'"
   ]
  },
  {
   "cell_type": "markdown",
   "metadata": {},
   "source": [
    "### Create Dataloader"
   ]
  },
  {
   "cell_type": "markdown",
   "metadata": {},
   "source": [
    "### Customize DataLoader\n",
    "\n",
    "In the next cell, we will create a DataLoader for the SynapseMNIST3D dataset. \n",
    "\n",
    "The `BioDataLoaders.class_from_folder()` method is used to load the dataset from the specified paths and apply transformations to the images. \n",
    "This method is designed for classification tasks and datasets organized in folders. Indeed, it assumes that the images are organized in subfolders whose names represents the image labels.\n",
    "\n",
    "We will set the batch size to 8 and apply the following transformations:\n",
    "- `ScaleIntensity()`: Scales the intensity of the images.\n",
    "- `RandRot90(prob=0.5, spatial_axes=(1,2))`: Randomly rotates the images by 90 degrees with a probability of 0.5 along the specified spatial axes.\n",
    "- `Resize(32)`: Resizes the images to 32x32x32.\n",
    "\n",
    "You can customize the DataLoader by changing the batch size, adding or removing transformations, or modifying the paths to the dataset. For example, you can increase the batch size for faster training or add more complex transformations to augment the dataset.\n",
    "\n",
    "The `show_summary` parameter is set to `True` to display a summary of the dataset and transformations applied.\n",
    "\n",
    "After creating the DataLoader, we will print the number of training and validation images to verify that the dataset has been loaded correctly."
   ]
  },
  {
   "cell_type": "markdown",
   "metadata": {},
   "source": [
    "#### Parameters:\n",
    "- `data_path`: The root directory where the dataset is stored.\n",
    "- `train`: The subdirectory containing the training images.\n",
    "- `valid`: The subdirectory containing the validation images.\n",
    "- `vocab`: The vocabulary or labels for the dataset.\n",
    "- `item_tfms`: A list of transformations to apply to each image individually. Examples include `ScaleIntensity()`, `RandRot90()`, and `Resize()`.\n",
    "- `batch_tfms`: A list of transformations to apply to a batch of images. This can be set to `None` if no batch transformations are needed.\n",
    "- `img_cls`: The class to use for loading images. For 3D images, this is typically `BioImageStack`.\n",
    "- `bs`: The batch size, which determines how many images are processed together in each batch.\n",
    "- `show_summary`: A boolean flag to display a summary of the dataset and the transformations applied.\n",
    "\n",
    "#### Example Usage:"
   ]
  },
  {
   "cell_type": "code",
   "execution_count": null,
   "metadata": {},
   "outputs": [
    {
     "name": "stdout",
     "output_type": "stream",
     "text": [
      "train images: 1230 \n",
      "validation images: 177\n"
     ]
    }
   ],
   "source": [
    "batch_size = 4\n",
    "\n",
    "data_ops = {\n",
    "    'train': 'train',                                       # folder for training data\n",
    "    'valid': 'val',                                           # folder for validation data\n",
    "    'vocab': info['label'],                                 # list of class labels\n",
    "    'img_cls': BioImageStack,                               # class to use for images\n",
    "    'bs': batch_size,                                       # batch size\n",
    "    'batch_tfms': None,\n",
    "    'item_tfms': [ScaleIntensity(),\n",
    "                RandRot90(prob=0.75, spatial_axes=(1,2)), \n",
    "                Resize(32)],\n",
    "}\n",
    "data = BioDataLoaders.class_from_folder(\n",
    "    data_path,                              # root directory for data\n",
    "    show_summary=False,                     # print summary of the data\n",
    "    **data_ops,                             # rest of the method arguments\n",
    "    )\n",
    "\n",
    "# print length of training and validation datasets\n",
    "print('train images:', len(data.train_ds.items), '\\nvalidation images:', len(data.valid_ds.items))"
   ]
  },
  {
   "cell_type": "markdown",
   "metadata": {},
   "source": [
    "### Display a Batch of Images\n",
    "\n",
    "In the next cell, we will display a batch of images from the training dataset using the `show_batch` method of the `BioDataLoaders` class. This method helps visualize the images and their corresponding labels, providing an overview of the dataset.\n",
    "\n",
    "You can customize the display by modifying the following parameters:\n",
    "- `max_n`: The maximum number of images to display in the batch. By default, it shows all images in the batch.\n",
    "- `nrows`: The number of rows to use for displaying the images. This can be adjusted to control the layout of the images.\n",
    "- `ncols`: The number of columns to use for displaying the images. This can be adjusted to control the layout of the images.\n",
    "- `figsize`: The size of the figure used to display the images. This can be adjusted to make the images larger or smaller.\n",
    "\n",
    "For example, you can set `max_n=4` to display only 4 images from the batch, or set `figsize=(10, 10)` to increase the size of the displayed images.\n",
    "\n",
    "This visualization step is useful for verifying that the images have been loaded and transformed correctly before proceeding with model training."
   ]
  },
  {
   "cell_type": "code",
   "execution_count": null,
   "metadata": {},
   "outputs": [
    {
     "data": {
      "image/png": "[encoded data removed]",
      "text/plain": [
       "<Figure size 600x600 with 4 Axes>"
      ]
     },
     "metadata": {},
     "output_type": "display_data"
    }
   ],
   "source": [
    "data.show_batch()"
   ]
  },
  {
   "cell_type": "markdown",
   "metadata": {},
   "source": [
    "### Load and train a 3D model"
   ]
  },
  {
   "cell_type": "markdown",
   "metadata": {},
   "source": [
    "### Train the Model\n",
    "\n",
    "In the next cell, we will initialize and train a 3D model using the `fastTrainer` class. The model architecture used is `SEResNet50`, which is a 3D version of the SE-ResNet50 model. This model is well-suited for 3D image classification tasks.\n",
    "\n",
    "We will use the following components:\n",
    "- `SEResNet50`: The model architecture with 3D spatial dimensions, 1 input channel, and 2 output classes.\n",
    "- `CrossEntropyLossFlat`: The loss function used for training the model.\n",
    "- `BalancedAccuracy`: The metric used to evaluate the model's performance.\n",
    "- `fastTrainer`: A custom trainer class to handle the training process.\n",
    "\n",
    "The `trainer.fit(20)` method will train the model for 20 epochs.\n",
    "\n",
    "You can customize the training process by modifying the following parameters:\n",
    "- `model`: Change the model architecture to another 3D model, such as `DenseNet169`.\n",
    "- `loss_fn`: Use a different loss function, such as `FocalLoss`.\n",
    "- `metrics`: Add more metrics to evaluate the model, such as `Precision` or `Recall`.\n",
    "- `show_summary`: Set to `False` if you do not want to display the model summary.\n",
    "- `find_lr`: Set to `False` if you do not want to find the optimal learning rate.\n",
    "\n",
    "For example, you can add more metrics to the `metrics` list to get a more comprehensive evaluation of the model's performance."
   ]
  },
  {
   "cell_type": "markdown",
   "metadata": {},
   "source": [
    "You can customize the training process by modifying the following parameters:\n",
    "- `epochs`: Change the number of epochs to train the model for a different duration. For example, you can set it to 50 or 100 epochs.\n",
    "- `lr`: Adjust the learning rate to control the speed at which the model learns. A lower learning rate can lead to more stable training, while a higher learning rate can speed up the process but may cause instability.\n",
    "- `callbacks`: Add custom callbacks to monitor the training process, such as early stopping or learning rate schedulers.\n",
    "\n",
    "For example, you can add an early stopping callback to stop training if the validation loss does not improve for a certain number of epochs. This can help prevent overfitting and save training time.\n",
    "\n",
    "Additionally, you can experiment with different learning rates to find the optimal value for your dataset. The `find_lr` parameter in the `fastTrainer` class can help you automatically find a suitable learning rate.\n",
    "\n",
    "By customizing these parameters, you can fine-tune the training process to achieve better performance and adapt the model to your specific dataset and requirements."
   ]
  },
  {
   "cell_type": "code",
   "execution_count": null,
   "metadata": {},
   "outputs": [
    {
     "data": {
      "text/html": [
       "\n",
       "<style>\n",
       "    /* Turns off some styling */\n",
       "    progress {\n",
       "        /* gets rid of default border in Firefox and Opera. */\n",
       "        border: none;\n",
       "        /* Needs to be in here for Safari polyfill so background images work as expected. */\n",
       "        background-size: auto;\n",
       "    }\n",
       "    progress:not([value]), progress:not([value])::-webkit-progress-bar {\n",
       "        background: repeating-linear-gradient(45deg, #7e7e7e, #7e7e7e 10px, #5c5c5c 10px, #5c5c5c 20px);\n",
       "    }\n",
       "    .progress-bar-interrupted, .progress-bar-interrupted::-webkit-progress-bar {\n",
       "        background: #F44336;\n",
       "    }\n",
       "</style>\n"
      ],
      "text/plain": [
       "<IPython.core.display.HTML object>"
      ]
     },
     "metadata": {},
     "output_type": "display_data"
    },
    {
     "data": {
      "text/html": [],
      "text/plain": [
       "<IPython.core.display.HTML object>"
      ]
     },
     "metadata": {},
     "output_type": "display_data"
    },
    {
     "name": "stdout",
     "output_type": "stream",
     "text": [
      "SEResNet50 (Input shape: 4 x 1 x 32 x 32 x 32)\n",
      "============================================================================\n",
      "Layer (type)         Output Shape         Param #    Trainable \n",
      "============================================================================\n",
      "                     4 x 64 x 16 x 16 x  \n",
      "Conv3d                                    21952      True      \n",
      "BatchNorm3d                               128        True      \n",
      "ReLU                                                           \n",
      "____________________________________________________________________________\n",
      "                     4 x 64 x 8 x 8 x 8  \n",
      "MaxPool3d                                                      \n",
      "Conv3d                                    4096       True      \n",
      "BatchNorm3d                               128        True      \n",
      "ReLU                                                           \n",
      "Conv3d                                    110592     True      \n",
      "BatchNorm3d                               128        True      \n",
      "ReLU                                                           \n",
      "____________________________________________________________________________\n",
      "                     4 x 256 x 8 x 8 x 8 \n",
      "Conv3d                                    16384      True      \n",
      "BatchNorm3d                               512        True      \n",
      "____________________________________________________________________________\n",
      "                     4 x 256 x 1 x 1 x 1 \n",
      "AdaptiveAvgPool3d                                              \n",
      "____________________________________________________________________________\n",
      "                     4 x 16              \n",
      "Linear                                    4112       True      \n",
      "ReLU                                                           \n",
      "____________________________________________________________________________\n",
      "                     4 x 256             \n",
      "Linear                                    4352       True      \n",
      "Sigmoid                                                        \n",
      "____________________________________________________________________________\n",
      "                     4 x 256 x 8 x 8 x 8 \n",
      "Conv3d                                    16384      True      \n",
      "BatchNorm3d                               512        True      \n",
      "ReLU                                                           \n",
      "____________________________________________________________________________\n",
      "                     4 x 64 x 8 x 8 x 8  \n",
      "Conv3d                                    16384      True      \n",
      "BatchNorm3d                               128        True      \n",
      "ReLU                                                           \n",
      "Conv3d                                    110592     True      \n",
      "BatchNorm3d                               128        True      \n",
      "ReLU                                                           \n",
      "____________________________________________________________________________\n",
      "                     4 x 256 x 8 x 8 x 8 \n",
      "Conv3d                                    16384      True      \n",
      "BatchNorm3d                               512        True      \n",
      "____________________________________________________________________________\n",
      "                     4 x 256 x 1 x 1 x 1 \n",
      "AdaptiveAvgPool3d                                              \n",
      "____________________________________________________________________________\n",
      "                     4 x 16              \n",
      "Linear                                    4112       True      \n",
      "ReLU                                                           \n",
      "____________________________________________________________________________\n",
      "                     4 x 256             \n",
      "Linear                                    4352       True      \n",
      "Sigmoid                                                        \n",
      "Identity                                                       \n",
      "ReLU                                                           \n",
      "____________________________________________________________________________\n",
      "                     4 x 64 x 8 x 8 x 8  \n",
      "Conv3d                                    16384      True      \n",
      "BatchNorm3d                               128        True      \n",
      "ReLU                                                           \n",
      "Conv3d                                    110592     True      \n",
      "BatchNorm3d                               128        True      \n",
      "ReLU                                                           \n",
      "____________________________________________________________________________\n",
      "                     4 x 256 x 8 x 8 x 8 \n",
      "Conv3d                                    16384      True      \n",
      "BatchNorm3d                               512        True      \n",
      "____________________________________________________________________________\n",
      "                     4 x 256 x 1 x 1 x 1 \n",
      "AdaptiveAvgPool3d                                              \n",
      "____________________________________________________________________________\n",
      "                     4 x 16              \n",
      "Linear                                    4112       True      \n",
      "ReLU                                                           \n",
      "____________________________________________________________________________\n",
      "                     4 x 256             \n",
      "Linear                                    4352       True      \n",
      "Sigmoid                                                        \n",
      "Identity                                                       \n",
      "ReLU                                                           \n",
      "____________________________________________________________________________\n",
      "                     4 x 128 x 4 x 4 x 4 \n",
      "Conv3d                                    32768      True      \n",
      "BatchNorm3d                               256        True      \n",
      "ReLU                                                           \n",
      "Conv3d                                    442368     True      \n",
      "BatchNorm3d                               256        True      \n",
      "ReLU                                                           \n",
      "____________________________________________________________________________\n",
      "                     4 x 512 x 4 x 4 x 4 \n",
      "Conv3d                                    65536      True      \n",
      "BatchNorm3d                               1024       True      \n",
      "____________________________________________________________________________\n",
      "                     4 x 512 x 1 x 1 x 1 \n",
      "AdaptiveAvgPool3d                                              \n",
      "____________________________________________________________________________\n",
      "                     4 x 32              \n",
      "Linear                                    16416      True      \n",
      "ReLU                                                           \n",
      "____________________________________________________________________________\n",
      "                     4 x 512             \n",
      "Linear                                    16896      True      \n",
      "Sigmoid                                                        \n",
      "____________________________________________________________________________\n",
      "                     4 x 512 x 4 x 4 x 4 \n",
      "Conv3d                                    131072     True      \n",
      "BatchNorm3d                               1024       True      \n",
      "ReLU                                                           \n",
      "____________________________________________________________________________\n",
      "                     4 x 128 x 4 x 4 x 4 \n",
      "Conv3d                                    65536      True      \n",
      "BatchNorm3d                               256        True      \n",
      "ReLU                                                           \n",
      "Conv3d                                    442368     True      \n",
      "BatchNorm3d                               256        True      \n",
      "ReLU                                                           \n",
      "____________________________________________________________________________\n",
      "                     4 x 512 x 4 x 4 x 4 \n",
      "Conv3d                                    65536      True      \n",
      "BatchNorm3d                               1024       True      \n",
      "____________________________________________________________________________\n",
      "                     4 x 512 x 1 x 1 x 1 \n",
      "AdaptiveAvgPool3d                                              \n",
      "____________________________________________________________________________\n",
      "                     4 x 32              \n",
      "Linear                                    16416      True      \n",
      "ReLU                                                           \n",
      "____________________________________________________________________________\n",
      "                     4 x 512             \n",
      "Linear                                    16896      True      \n",
      "Sigmoid                                                        \n",
      "Identity                                                       \n",
      "ReLU                                                           \n",
      "____________________________________________________________________________\n",
      "                     4 x 128 x 4 x 4 x 4 \n",
      "Conv3d                                    65536      True      \n",
      "BatchNorm3d                               256        True      \n",
      "ReLU                                                           \n",
      "Conv3d                                    442368     True      \n",
      "BatchNorm3d                               256        True      \n",
      "ReLU                                                           \n",
      "____________________________________________________________________________\n",
      "                     4 x 512 x 4 x 4 x 4 \n",
      "Conv3d                                    65536      True      \n",
      "BatchNorm3d                               1024       True      \n",
      "____________________________________________________________________________\n",
      "                     4 x 512 x 1 x 1 x 1 \n",
      "AdaptiveAvgPool3d                                              \n",
      "____________________________________________________________________________\n",
      "                     4 x 32              \n",
      "Linear                                    16416      True      \n",
      "ReLU                                                           \n",
      "____________________________________________________________________________\n",
      "                     4 x 512             \n",
      "Linear                                    16896      True      \n",
      "Sigmoid                                                        \n",
      "Identity                                                       \n",
      "ReLU                                                           \n",
      "____________________________________________________________________________\n",
      "                     4 x 128 x 4 x 4 x 4 \n",
      "Conv3d                                    65536      True      \n",
      "BatchNorm3d                               256        True      \n",
      "ReLU                                                           \n",
      "Conv3d                                    442368     True      \n",
      "BatchNorm3d                               256        True      \n",
      "ReLU                                                           \n",
      "____________________________________________________________________________\n",
      "                     4 x 512 x 4 x 4 x 4 \n",
      "Conv3d                                    65536      True      \n",
      "BatchNorm3d                               1024       True      \n",
      "____________________________________________________________________________\n",
      "                     4 x 512 x 1 x 1 x 1 \n",
      "AdaptiveAvgPool3d                                              \n",
      "____________________________________________________________________________\n",
      "                     4 x 32              \n",
      "Linear                                    16416      True      \n",
      "ReLU                                                           \n",
      "____________________________________________________________________________\n",
      "                     4 x 512             \n",
      "Linear                                    16896      True      \n",
      "Sigmoid                                                        \n",
      "Identity                                                       \n",
      "ReLU                                                           \n",
      "____________________________________________________________________________\n",
      "                     4 x 256 x 2 x 2 x 2 \n",
      "Conv3d                                    131072     True      \n",
      "BatchNorm3d                               512        True      \n",
      "ReLU                                                           \n",
      "Conv3d                                    1769472    True      \n",
      "BatchNorm3d                               512        True      \n",
      "ReLU                                                           \n",
      "____________________________________________________________________________\n",
      "                     4 x 1024 x 2 x 2 x  \n",
      "Conv3d                                    262144     True      \n",
      "BatchNorm3d                               2048       True      \n",
      "____________________________________________________________________________\n",
      "                     4 x 1024 x 1 x 1 x  \n",
      "AdaptiveAvgPool3d                                              \n",
      "____________________________________________________________________________\n",
      "                     4 x 64              \n",
      "Linear                                    65600      True      \n",
      "ReLU                                                           \n",
      "____________________________________________________________________________\n",
      "                     4 x 1024            \n",
      "Linear                                    66560      True      \n",
      "Sigmoid                                                        \n",
      "____________________________________________________________________________\n",
      "                     4 x 1024 x 2 x 2 x  \n",
      "Conv3d                                    524288     True      \n",
      "BatchNorm3d                               2048       True      \n",
      "ReLU                                                           \n",
      "____________________________________________________________________________\n",
      "                     4 x 256 x 2 x 2 x 2 \n",
      "Conv3d                                    262144     True      \n",
      "BatchNorm3d                               512        True      \n",
      "ReLU                                                           \n",
      "Conv3d                                    1769472    True      \n",
      "BatchNorm3d                               512        True      \n",
      "ReLU                                                           \n",
      "____________________________________________________________________________\n",
      "                     4 x 1024 x 2 x 2 x  \n",
      "Conv3d                                    262144     True      \n",
      "BatchNorm3d                               2048       True      \n",
      "____________________________________________________________________________\n",
      "                     4 x 1024 x 1 x 1 x  \n",
      "AdaptiveAvgPool3d                                              \n",
      "____________________________________________________________________________\n",
      "                     4 x 64              \n",
      "Linear                                    65600      True      \n",
      "ReLU                                                           \n",
      "____________________________________________________________________________\n",
      "                     4 x 1024            \n",
      "Linear                                    66560      True      \n",
      "Sigmoid                                                        \n",
      "Identity                                                       \n",
      "ReLU                                                           \n",
      "____________________________________________________________________________\n",
      "                     4 x 256 x 2 x 2 x 2 \n",
      "Conv3d                                    262144     True      \n",
      "BatchNorm3d                               512        True      \n",
      "ReLU                                                           \n",
      "Conv3d                                    1769472    True      \n",
      "BatchNorm3d                               512        True      \n",
      "ReLU                                                           \n",
      "____________________________________________________________________________\n",
      "                     4 x 1024 x 2 x 2 x  \n",
      "Conv3d                                    262144     True      \n",
      "BatchNorm3d                               2048       True      \n",
      "____________________________________________________________________________\n",
      "                     4 x 1024 x 1 x 1 x  \n",
      "AdaptiveAvgPool3d                                              \n",
      "____________________________________________________________________________\n",
      "                     4 x 64              \n",
      "Linear                                    65600      True      \n",
      "ReLU                                                           \n",
      "____________________________________________________________________________\n",
      "                     4 x 1024            \n",
      "Linear                                    66560      True      \n",
      "Sigmoid                                                        \n",
      "Identity                                                       \n",
      "ReLU                                                           \n",
      "____________________________________________________________________________\n",
      "                     4 x 256 x 2 x 2 x 2 \n",
      "Conv3d                                    262144     True      \n",
      "BatchNorm3d                               512        True      \n",
      "ReLU                                                           \n",
      "Conv3d                                    1769472    True      \n",
      "BatchNorm3d                               512        True      \n",
      "ReLU                                                           \n",
      "____________________________________________________________________________\n",
      "                     4 x 1024 x 2 x 2 x  \n",
      "Conv3d                                    262144     True      \n",
      "BatchNorm3d                               2048       True      \n",
      "____________________________________________________________________________\n",
      "                     4 x 1024 x 1 x 1 x  \n",
      "AdaptiveAvgPool3d                                              \n",
      "____________________________________________________________________________\n",
      "                     4 x 64              \n",
      "Linear                                    65600      True      \n",
      "ReLU                                                           \n",
      "____________________________________________________________________________\n",
      "                     4 x 1024            \n",
      "Linear                                    66560      True      \n",
      "Sigmoid                                                        \n",
      "Identity                                                       \n",
      "ReLU                                                           \n",
      "____________________________________________________________________________\n",
      "                     4 x 256 x 2 x 2 x 2 \n",
      "Conv3d                                    262144     True      \n",
      "BatchNorm3d                               512        True      \n",
      "ReLU                                                           \n",
      "Conv3d                                    1769472    True      \n",
      "BatchNorm3d                               512        True      \n",
      "ReLU                                                           \n",
      "____________________________________________________________________________\n",
      "                     4 x 1024 x 2 x 2 x  \n",
      "Conv3d                                    262144     True      \n",
      "BatchNorm3d                               2048       True      \n",
      "____________________________________________________________________________\n",
      "                     4 x 1024 x 1 x 1 x  \n",
      "AdaptiveAvgPool3d                                              \n",
      "____________________________________________________________________________\n",
      "                     4 x 64              \n",
      "Linear                                    65600      True      \n",
      "ReLU                                                           \n",
      "____________________________________________________________________________\n",
      "                     4 x 1024            \n",
      "Linear                                    66560      True      \n",
      "Sigmoid                                                        \n",
      "Identity                                                       \n",
      "ReLU                                                           \n",
      "____________________________________________________________________________\n",
      "                     4 x 256 x 2 x 2 x 2 \n",
      "Conv3d                                    262144     True      \n",
      "BatchNorm3d                               512        True      \n",
      "ReLU                                                           \n",
      "Conv3d                                    1769472    True      \n",
      "BatchNorm3d                               512        True      \n",
      "ReLU                                                           \n",
      "____________________________________________________________________________\n",
      "                     4 x 1024 x 2 x 2 x  \n",
      "Conv3d                                    262144     True      \n",
      "BatchNorm3d                               2048       True      \n",
      "____________________________________________________________________________\n",
      "                     4 x 1024 x 1 x 1 x  \n",
      "AdaptiveAvgPool3d                                              \n",
      "____________________________________________________________________________\n",
      "                     4 x 64              \n",
      "Linear                                    65600      True      \n",
      "ReLU                                                           \n",
      "____________________________________________________________________________\n",
      "                     4 x 1024            \n",
      "Linear                                    66560      True      \n",
      "Sigmoid                                                        \n",
      "Identity                                                       \n",
      "ReLU                                                           \n",
      "____________________________________________________________________________\n",
      "                     4 x 512 x 1 x 1 x 1 \n",
      "Conv3d                                    524288     True      \n",
      "BatchNorm3d                               1024       True      \n",
      "ReLU                                                           \n",
      "Conv3d                                    7077888    True      \n",
      "BatchNorm3d                               1024       True      \n",
      "ReLU                                                           \n",
      "____________________________________________________________________________\n",
      "                     4 x 2048 x 1 x 1 x  \n",
      "Conv3d                                    1048576    True      \n",
      "BatchNorm3d                               4096       True      \n",
      "AdaptiveAvgPool3d                                              \n",
      "____________________________________________________________________________\n",
      "                     4 x 128             \n",
      "Linear                                    262272     True      \n",
      "ReLU                                                           \n",
      "____________________________________________________________________________\n",
      "                     4 x 2048            \n",
      "Linear                                    264192     True      \n",
      "Sigmoid                                                        \n",
      "____________________________________________________________________________\n",
      "                     4 x 2048 x 1 x 1 x  \n",
      "Conv3d                                    2097152    True      \n",
      "BatchNorm3d                               4096       True      \n",
      "ReLU                                                           \n",
      "____________________________________________________________________________\n",
      "                     4 x 512 x 1 x 1 x 1 \n",
      "Conv3d                                    1048576    True      \n",
      "BatchNorm3d                               1024       True      \n",
      "ReLU                                                           \n",
      "Conv3d                                    7077888    True      \n",
      "BatchNorm3d                               1024       True      \n",
      "ReLU                                                           \n",
      "____________________________________________________________________________\n",
      "                     4 x 2048 x 1 x 1 x  \n",
      "Conv3d                                    1048576    True      \n",
      "BatchNorm3d                               4096       True      \n",
      "AdaptiveAvgPool3d                                              \n",
      "____________________________________________________________________________\n",
      "                     4 x 128             \n",
      "Linear                                    262272     True      \n",
      "ReLU                                                           \n",
      "____________________________________________________________________________\n",
      "                     4 x 2048            \n",
      "Linear                                    264192     True      \n",
      "Sigmoid                                                        \n",
      "Identity                                                       \n",
      "ReLU                                                           \n",
      "____________________________________________________________________________\n",
      "                     4 x 512 x 1 x 1 x 1 \n",
      "Conv3d                                    1048576    True      \n",
      "BatchNorm3d                               1024       True      \n",
      "ReLU                                                           \n",
      "Conv3d                                    7077888    True      \n",
      "BatchNorm3d                               1024       True      \n",
      "ReLU                                                           \n",
      "____________________________________________________________________________\n",
      "                     4 x 2048 x 1 x 1 x  \n",
      "Conv3d                                    1048576    True      \n",
      "BatchNorm3d                               4096       True      \n",
      "AdaptiveAvgPool3d                                              \n",
      "____________________________________________________________________________\n",
      "                     4 x 128             \n",
      "Linear                                    262272     True      \n",
      "ReLU                                                           \n",
      "____________________________________________________________________________\n",
      "                     4 x 2048            \n",
      "Linear                                    264192     True      \n",
      "Sigmoid                                                        \n",
      "Identity                                                       \n",
      "ReLU                                                           \n",
      "AdaptiveAvgPool3d                                              \n",
      "____________________________________________________________________________\n",
      "                     4 x 2               \n",
      "Linear                                    4098       True      \n",
      "____________________________________________________________________________\n",
      "\n",
      "Total params: 48,690,162\n",
      "Total trainable params: 48,690,162\n",
      "Total non-trainable params: 0\n",
      "\n",
      "Optimizer used: <function Adam>\n",
      "Loss function: FlattenedLoss of CrossEntropyLoss()\n",
      "\n",
      "Callbacks:\n",
      "  - TrainEvalCallback\n",
      "  - CastToTensor\n",
      "  - Recorder\n",
      "  - ProgressCallback\n",
      "  - ShowGraphCallback\n"
     ]
    },
    {
     "data": {
      "text/html": [
       "\n",
       "<style>\n",
       "    /* Turns off some styling */\n",
       "    progress {\n",
       "        /* gets rid of default border in Firefox and Opera. */\n",
       "        border: none;\n",
       "        /* Needs to be in here for Safari polyfill so background images work as expected. */\n",
       "        background-size: auto;\n",
       "    }\n",
       "    progress:not([value]), progress:not([value])::-webkit-progress-bar {\n",
       "        background: repeating-linear-gradient(45deg, #7e7e7e, #7e7e7e 10px, #5c5c5c 10px, #5c5c5c 20px);\n",
       "    }\n",
       "    .progress-bar-interrupted, .progress-bar-interrupted::-webkit-progress-bar {\n",
       "        background: #F44336;\n",
       "    }\n",
       "</style>\n"
      ],
      "text/plain": [
       "<IPython.core.display.HTML object>"
      ]
     },
     "metadata": {},
     "output_type": "display_data"
    },
    {
     "data": {
      "text/html": [],
      "text/plain": [
       "<IPython.core.display.HTML object>"
      ]
     },
     "metadata": {},
     "output_type": "display_data"
    },
    {
     "name": "stdout",
     "output_type": "stream",
     "text": [
      "Inferred learning rate:  4e-05\n"
     ]
    },
    {
     "data": {
      "image/png": "[encoded data removed]",
      "text/plain": [
       "<Figure size 640x480 with 1 Axes>"
      ]
     },
     "metadata": {},
     "output_type": "display_data"
    }
   ],
   "source": [
    "from monai.networks.nets import SEResNet50\n",
    "from fastai.vision.all import BalancedAccuracy, CrossEntropyLossFlat\n",
    "\n",
    "model = SEResNet50(spatial_dims=3, in_channels=1, num_classes=2)\n",
    "\n",
    "loss = CrossEntropyLossFlat()\n",
    "metrics = BalancedAccuracy()\n",
    "\n",
    "trainer = fastTrainer(data, model, loss_fn=loss, metrics=metrics, show_summary=True, find_lr=True)"
   ]
  },
  {
   "cell_type": "code",
   "execution_count": null,
   "metadata": {},
   "outputs": [
    {
     "data": {
      "text/html": [
       "\n",
       "<style>\n",
       "    /* Turns off some styling */\n",
       "    progress {\n",
       "        /* gets rid of default border in Firefox and Opera. */\n",
       "        border: none;\n",
       "        /* Needs to be in here for Safari polyfill so background images work as expected. */\n",
       "        background-size: auto;\n",
       "    }\n",
       "    progress:not([value]), progress:not([value])::-webkit-progress-bar {\n",
       "        background: repeating-linear-gradient(45deg, #7e7e7e, #7e7e7e 10px, #5c5c5c 10px, #5c5c5c 20px);\n",
       "    }\n",
       "    .progress-bar-interrupted, .progress-bar-interrupted::-webkit-progress-bar {\n",
       "        background: #F44336;\n",
       "    }\n",
       "</style>\n"
      ],
      "text/plain": [
       "<IPython.core.display.HTML object>"
      ]
     },
     "metadata": {},
     "output_type": "display_data"
    },
    {
     "data": {
      "text/html": [
       "<table border=\"1\" class=\"dataframe\">\n",
       "  <thead>\n",
       "    <tr style=\"text-align: left;\">\n",
       "      <th>epoch</th>\n",
       "      <th>train_loss</th>\n",
       "      <th>valid_loss</th>\n",
       "      <th>balanced_accuracy_score</th>\n",
       "      <th>time</th>\n",
       "    </tr>\n",
       "  </thead>\n",
       "  <tbody>\n",
       "    <tr>\n",
       "      <td>0</td>\n",
       "      <td>0.567117</td>\n",
       "      <td>0.621270</td>\n",
       "      <td>0.506541</td>\n",
       "      <td>00:29</td>\n",
       "    </tr>\n",
       "    <tr>\n",
       "      <td>1</td>\n",
       "      <td>0.569455</td>\n",
       "      <td>0.631029</td>\n",
       "      <td>0.500242</td>\n",
       "      <td>00:31</td>\n",
       "    </tr>\n",
       "    <tr>\n",
       "      <td>2</td>\n",
       "      <td>0.609638</td>\n",
       "      <td>0.627639</td>\n",
       "      <td>0.547238</td>\n",
       "      <td>00:40</td>\n",
       "    </tr>\n",
       "    <tr>\n",
       "      <td>3</td>\n",
       "      <td>0.577578</td>\n",
       "      <td>0.606158</td>\n",
       "      <td>0.514535</td>\n",
       "      <td>00:39</td>\n",
       "    </tr>\n",
       "    <tr>\n",
       "      <td>4</td>\n",
       "      <td>0.524263</td>\n",
       "      <td>0.655444</td>\n",
       "      <td>0.517200</td>\n",
       "      <td>00:38</td>\n",
       "    </tr>\n",
       "    <tr>\n",
       "      <td>5</td>\n",
       "      <td>0.487993</td>\n",
       "      <td>0.572733</td>\n",
       "      <td>0.540698</td>\n",
       "      <td>00:42</td>\n",
       "    </tr>\n",
       "    <tr>\n",
       "      <td>6</td>\n",
       "      <td>0.528797</td>\n",
       "      <td>0.605113</td>\n",
       "      <td>0.517200</td>\n",
       "      <td>00:36</td>\n",
       "    </tr>\n",
       "    <tr>\n",
       "      <td>7</td>\n",
       "      <td>0.537770</td>\n",
       "      <td>0.555766</td>\n",
       "      <td>0.548450</td>\n",
       "      <td>00:37</td>\n",
       "    </tr>\n",
       "    <tr>\n",
       "      <td>8</td>\n",
       "      <td>0.536272</td>\n",
       "      <td>0.603529</td>\n",
       "      <td>0.513324</td>\n",
       "      <td>00:33</td>\n",
       "    </tr>\n",
       "    <tr>\n",
       "      <td>9</td>\n",
       "      <td>0.500854</td>\n",
       "      <td>0.597996</td>\n",
       "      <td>0.558866</td>\n",
       "      <td>00:30</td>\n",
       "    </tr>\n",
       "    <tr>\n",
       "      <td>10</td>\n",
       "      <td>0.463724</td>\n",
       "      <td>0.633418</td>\n",
       "      <td>0.495397</td>\n",
       "      <td>00:44</td>\n",
       "    </tr>\n",
       "    <tr>\n",
       "      <td>11</td>\n",
       "      <td>0.459523</td>\n",
       "      <td>0.587975</td>\n",
       "      <td>0.536579</td>\n",
       "      <td>00:47</td>\n",
       "    </tr>\n",
       "    <tr>\n",
       "      <td>12</td>\n",
       "      <td>0.466747</td>\n",
       "      <td>0.552984</td>\n",
       "      <td>0.577035</td>\n",
       "      <td>00:48</td>\n",
       "    </tr>\n",
       "    <tr>\n",
       "      <td>13</td>\n",
       "      <td>0.489091</td>\n",
       "      <td>0.624866</td>\n",
       "      <td>0.546027</td>\n",
       "      <td>00:40</td>\n",
       "    </tr>\n",
       "    <tr>\n",
       "      <td>14</td>\n",
       "      <td>0.455232</td>\n",
       "      <td>0.551111</td>\n",
       "      <td>0.595203</td>\n",
       "      <td>00:52</td>\n",
       "    </tr>\n",
       "    <tr>\n",
       "      <td>15</td>\n",
       "      <td>0.432393</td>\n",
       "      <td>0.611518</td>\n",
       "      <td>0.591328</td>\n",
       "      <td>00:58</td>\n",
       "    </tr>\n",
       "    <tr>\n",
       "      <td>16</td>\n",
       "      <td>0.412177</td>\n",
       "      <td>0.615875</td>\n",
       "      <td>0.607074</td>\n",
       "      <td>00:44</td>\n",
       "    </tr>\n",
       "    <tr>\n",
       "      <td>17</td>\n",
       "      <td>0.408749</td>\n",
       "      <td>0.664078</td>\n",
       "      <td>0.541909</td>\n",
       "      <td>00:42</td>\n",
       "    </tr>\n",
       "    <tr>\n",
       "      <td>18</td>\n",
       "      <td>0.421882</td>\n",
       "      <td>0.607396</td>\n",
       "      <td>0.582364</td>\n",
       "      <td>00:48</td>\n",
       "    </tr>\n",
       "    <tr>\n",
       "      <td>19</td>\n",
       "      <td>0.365003</td>\n",
       "      <td>0.654666</td>\n",
       "      <td>0.549661</td>\n",
       "      <td>01:04</td>\n",
       "    </tr>\n",
       "  </tbody>\n",
       "</table>"
      ],
      "text/plain": [
       "<IPython.core.display.HTML object>"
      ]
     },
     "metadata": {},
     "output_type": "display_data"
    },
    {
     "data": {
      "image/png": "[encoded data removed]",
      "text/plain": [
       "<Figure size 600x400 with 1 Axes>"
      ]
     },
     "metadata": {},
     "output_type": "display_data"
    }
   ],
   "source": [
    "trainer.fit(20)"
   ]
  },
  {
   "cell_type": "markdown",
   "metadata": {},
   "source": [
    "### Evaluate the Model on Validation Data\n",
    "\n",
    "In this step, we will evaluate the trained model on the validation dataset using the `evaluate_classification_model` function. This function computes the specified metrics and provides insights into the model's performance. Additionally, it can display the most confused classes to help identify areas for improvement.\n",
    "\n",
    "> - You can customize the `metrics` parameter to include other evaluation metrics relevant to your task.\n",
    "> - The `most_confused_n` parameter specifies the number of most confused classes to display. Adjust this value to see more or fewer confused classes.\n",
    "> - Set the `show_graph` parameter to `True` to visualize the confusion matrix and other evaluation graphs.\n",
    "> - Use this evaluation step to monitor the model's performance and make necessary adjustments to the training process or data pipeline."
   ]
  },
  {
   "cell_type": "code",
   "execution_count": null,
   "metadata": {},
   "outputs": [
    {
     "data": {
      "text/html": [
       "\n",
       "<style>\n",
       "    /* Turns off some styling */\n",
       "    progress {\n",
       "        /* gets rid of default border in Firefox and Opera. */\n",
       "        border: none;\n",
       "        /* Needs to be in here for Safari polyfill so background images work as expected. */\n",
       "        background-size: auto;\n",
       "    }\n",
       "    progress:not([value]), progress:not([value])::-webkit-progress-bar {\n",
       "        background: repeating-linear-gradient(45deg, #7e7e7e, #7e7e7e 10px, #5c5c5c 10px, #5c5c5c 20px);\n",
       "    }\n",
       "    .progress-bar-interrupted, .progress-bar-interrupted::-webkit-progress-bar {\n",
       "        background: #F44336;\n",
       "    }\n",
       "</style>\n"
      ],
      "text/plain": [
       "<IPython.core.display.HTML object>"
      ]
     },
     "metadata": {},
     "output_type": "display_data"
    },
    {
     "data": {
      "text/html": [
       "\n",
       "    <div>\n",
       "      <progress value='0' class='' max='45' style='width:300px; height:20px; vertical-align: middle;'></progress>\n",
       "      0.00% [0/45 00:00&lt;?]\n",
       "    </div>\n",
       "    "
      ],
      "text/plain": [
       "<IPython.core.display.HTML object>"
      ]
     },
     "metadata": {},
     "output_type": "display_data"
    },
    {
     "data": {
      "text/html": [
       "\n",
       "<style>\n",
       "    /* Turns off some styling */\n",
       "    progress {\n",
       "        /* gets rid of default border in Firefox and Opera. */\n",
       "        border: none;\n",
       "        /* Needs to be in here for Safari polyfill so background images work as expected. */\n",
       "        background-size: auto;\n",
       "    }\n",
       "    progress:not([value]), progress:not([value])::-webkit-progress-bar {\n",
       "        background: repeating-linear-gradient(45deg, #7e7e7e, #7e7e7e 10px, #5c5c5c 10px, #5c5c5c 20px);\n",
       "    }\n",
       "    .progress-bar-interrupted, .progress-bar-interrupted::-webkit-progress-bar {\n",
       "        background: #F44336;\n",
       "    }\n",
       "</style>\n"
      ],
      "text/plain": [
       "<IPython.core.display.HTML object>"
      ]
     },
     "metadata": {},
     "output_type": "display_data"
    },
    {
     "data": {
      "text/html": [],
      "text/plain": [
       "<IPython.core.display.HTML object>"
      ]
     },
     "metadata": {},
     "output_type": "display_data"
    },
    {
     "data": {
      "text/html": [
       "\n",
       "<style>\n",
       "    /* Turns off some styling */\n",
       "    progress {\n",
       "        /* gets rid of default border in Firefox and Opera. */\n",
       "        border: none;\n",
       "        /* Needs to be in here for Safari polyfill so background images work as expected. */\n",
       "        background-size: auto;\n",
       "    }\n",
       "    progress:not([value]), progress:not([value])::-webkit-progress-bar {\n",
       "        background: repeating-linear-gradient(45deg, #7e7e7e, #7e7e7e 10px, #5c5c5c 10px, #5c5c5c 20px);\n",
       "    }\n",
       "    .progress-bar-interrupted, .progress-bar-interrupted::-webkit-progress-bar {\n",
       "        background: #F44336;\n",
       "    }\n",
       "</style>\n"
      ],
      "text/plain": [
       "<IPython.core.display.HTML object>"
      ]
     },
     "metadata": {},
     "output_type": "display_data"
    },
    {
     "data": {
      "text/html": [],
      "text/plain": [
       "<IPython.core.display.HTML object>"
      ]
     },
     "metadata": {},
     "output_type": "display_data"
    },
    {
     "data": {
      "text/html": [
       "\n",
       "<style>\n",
       "    /* Turns off some styling */\n",
       "    progress {\n",
       "        /* gets rid of default border in Firefox and Opera. */\n",
       "        border: none;\n",
       "        /* Needs to be in here for Safari polyfill so background images work as expected. */\n",
       "        background-size: auto;\n",
       "    }\n",
       "    progress:not([value]), progress:not([value])::-webkit-progress-bar {\n",
       "        background: repeating-linear-gradient(45deg, #7e7e7e, #7e7e7e 10px, #5c5c5c 10px, #5c5c5c 20px);\n",
       "    }\n",
       "    .progress-bar-interrupted, .progress-bar-interrupted::-webkit-progress-bar {\n",
       "        background: #F44336;\n",
       "    }\n",
       "</style>\n"
      ],
      "text/plain": [
       "<IPython.core.display.HTML object>"
      ]
     },
     "metadata": {},
     "output_type": "display_data"
    },
    {
     "data": {
      "text/html": [],
      "text/plain": [
       "<IPython.core.display.HTML object>"
      ]
     },
     "metadata": {},
     "output_type": "display_data"
    },
    {
     "data": {
      "text/html": [
       "\n",
       "<style>\n",
       "    /* Turns off some styling */\n",
       "    progress {\n",
       "        /* gets rid of default border in Firefox and Opera. */\n",
       "        border: none;\n",
       "        /* Needs to be in here for Safari polyfill so background images work as expected. */\n",
       "        background-size: auto;\n",
       "    }\n",
       "    progress:not([value]), progress:not([value])::-webkit-progress-bar {\n",
       "        background: repeating-linear-gradient(45deg, #7e7e7e, #7e7e7e 10px, #5c5c5c 10px, #5c5c5c 20px);\n",
       "    }\n",
       "    .progress-bar-interrupted, .progress-bar-interrupted::-webkit-progress-bar {\n",
       "        background: #F44336;\n",
       "    }\n",
       "</style>\n"
      ],
      "text/plain": [
       "<IPython.core.display.HTML object>"
      ]
     },
     "metadata": {},
     "output_type": "display_data"
    },
    {
     "data": {
      "text/html": [],
      "text/plain": [
       "<IPython.core.display.HTML object>"
      ]
     },
     "metadata": {},
     "output_type": "display_data"
    },
    {
     "name": "stdout",
     "output_type": "stream",
     "text": [
      "              precision    recall  f1-score   support\n",
      "\n",
      "           0       0.54      0.15      0.23        48\n",
      "           1       0.75      0.95      0.84       129\n",
      "\n",
      "    accuracy                           0.73       177\n",
      "   macro avg       0.64      0.55      0.53       177\n",
      "weighted avg       0.69      0.73      0.67       177\n",
      "\n",
      "\n",
      "Most Confused Classes:\n"
     ]
    },
    {
     "data": {
      "text/html": [
       "\n",
       "<style>\n",
       "    /* Turns off some styling */\n",
       "    progress {\n",
       "        /* gets rid of default border in Firefox and Opera. */\n",
       "        border: none;\n",
       "        /* Needs to be in here for Safari polyfill so background images work as expected. */\n",
       "        background-size: auto;\n",
       "    }\n",
       "    progress:not([value]), progress:not([value])::-webkit-progress-bar {\n",
       "        background: repeating-linear-gradient(45deg, #7e7e7e, #7e7e7e 10px, #5c5c5c 10px, #5c5c5c 20px);\n",
       "    }\n",
       "    .progress-bar-interrupted, .progress-bar-interrupted::-webkit-progress-bar {\n",
       "        background: #F44336;\n",
       "    }\n",
       "</style>\n"
      ],
      "text/plain": [
       "<IPython.core.display.HTML object>"
      ]
     },
     "metadata": {},
     "output_type": "display_data"
    },
    {
     "data": {
      "text/html": [],
      "text/plain": [
       "<IPython.core.display.HTML object>"
      ]
     },
     "metadata": {},
     "output_type": "display_data"
    },
    {
     "name": "stdout",
     "output_type": "stream",
     "text": [
      "[('0', '1', 41), ('1', '0', 6)]\n"
     ]
    },
    {
     "data": {
      "text/html": [
       "<div>\n",
       "<style scoped>\n",
       "    .dataframe tbody tr th:only-of-type {\n",
       "        vertical-align: middle;\n",
       "    }\n",
       "\n",
       "    .dataframe tbody tr th {\n",
       "        vertical-align: top;\n",
       "    }\n",
       "\n",
       "    .dataframe thead th {\n",
       "        text-align: right;\n",
       "    }\n",
       "</style>\n",
       "<table border=\"1\" class=\"dataframe\">\n",
       "  <thead>\n",
       "    <tr style=\"text-align: right;\">\n",
       "      <th></th>\n",
       "      <th>Value</th>\n",
       "    </tr>\n",
       "    <tr>\n",
       "      <th>CrossEntropyLossFlat</th>\n",
       "      <th></th>\n",
       "    </tr>\n",
       "  </thead>\n",
       "  <tbody>\n",
       "    <tr>\n",
       "      <th>Mean</th>\n",
       "      <td>0.563389</td>\n",
       "    </tr>\n",
       "    <tr>\n",
       "      <th>Median</th>\n",
       "      <td>0.381459</td>\n",
       "    </tr>\n",
       "    <tr>\n",
       "      <th>Standard Deviation</th>\n",
       "      <td>0.319101</td>\n",
       "    </tr>\n",
       "    <tr>\n",
       "      <th>Min</th>\n",
       "      <td>0.313513</td>\n",
       "    </tr>\n",
       "    <tr>\n",
       "      <th>Max</th>\n",
       "      <td>1.301205</td>\n",
       "    </tr>\n",
       "    <tr>\n",
       "      <th>Q1</th>\n",
       "      <td>0.330802</td>\n",
       "    </tr>\n",
       "    <tr>\n",
       "      <th>Q3</th>\n",
       "      <td>0.719958</td>\n",
       "    </tr>\n",
       "  </tbody>\n",
       "</table>\n",
       "</div>"
      ],
      "text/plain": [
       "                         Value\n",
       "CrossEntropyLossFlat          \n",
       "Mean                  0.563389\n",
       "Median                0.381459\n",
       "Standard Deviation    0.319101\n",
       "Min                   0.313513\n",
       "Max                   1.301205\n",
       "Q1                    0.330802\n",
       "Q3                    0.719958"
      ]
     },
     "metadata": {},
     "output_type": "display_data"
    },
    {
     "data": {
      "image/png": "[encoded data removed]",
      "text/plain": [
       "<Figure size 600x600 with 4 Axes>"
      ]
     },
     "metadata": {},
     "output_type": "display_data"
    },
    {
     "data": {
      "image/png": "[encoded data removed]",
      "text/plain": [
       "<Figure size 640x480 with 1 Axes>"
      ]
     },
     "metadata": {},
     "output_type": "display_data"
    }
   ],
   "source": [
    "metrics = BalancedAccuracy()\n",
    "evaluate_classification_model(trainer,  most_confused_n=5, show_graph=False);"
   ]
  },
  {
   "cell_type": "markdown",
   "metadata": {},
   "source": [
    "### Save the Trained Model\n",
    "\n",
    "In the next cell, we will save the trained model to a file using the `save` method of the `fastTrainer` class. This step is important to preserve the trained model so that it can be loaded and used later without retraining.\n",
    "\n",
    "You can customize the saving process by modifying the following parameters:\n",
    "- `file_name`: Change the name of the file to save the model with a different name. For example, you can set it to 'final_model' or 'best_model'.\n",
    "- `path`: Specify a different path to save the model in a different directory. This is useful if you want to organize your saved models in a specific folder.\n",
    "\n",
    "For example, you can set `file_name='final_model'` to save the model with the name 'final_model.pth', or set `path='../models/'` to save the model in the 'models' directory.\n",
    "\n",
    "By customizing these parameters, you can ensure that the model is saved with a meaningful name and in an organized manner, making it easier to manage and retrieve the model for future use."
   ]
  },
  {
   "cell_type": "code",
   "execution_count": null,
   "metadata": {},
   "outputs": [
    {
     "data": {
      "text/plain": [
       "Path('../_data/medmnist_data/synapsemnist3d/models/tmp-model.pth')"
      ]
     },
     "execution_count": null,
     "metadata": {},
     "output_type": "execute_result"
    }
   ],
   "source": [
    "# trainer.save('tmp-model')"
   ]
  },
  {
   "cell_type": "markdown",
   "metadata": {},
   "source": [
    "### Evaluate the Model on Test Data\n",
    "\n",
    "Here, we will evaluate the performance of the trained model on the test dataset. This step is crucial to understand how well the model generalizes to unseen data.\n",
    "\n",
    "We will use the `data.test_dl` method to create a DataLoader for the test dataset. The `get_image_files` function is used to retrieve the test images from the specified path. The `with_labels=True` parameter ensures that the test images are loaded with their corresponding labels.\n",
    "\n",
    "After creating the test DataLoader, we will print the number of test images to verify that the dataset has been loaded correctly.\n",
    "\n",
    "You can customize the evaluation process by modifying the following parameters:\n",
    "- `test_path`: Change the path to the test dataset if it is stored in a different location.\n",
    "- `with_labels`: Set to `False` if the test dataset does not have labels. This is useful for evaluating the model on unlabeled data.\n",
    "- `batch_size`: Adjust the batch size for the test DataLoader. A larger batch size can speed up the evaluation process but may require more memory.\n",
    "\n",
    "By customizing these parameters, you can adapt the evaluation process to different datasets and requirements, ensuring that the model's performance is accurately assessed."
   ]
  },
  {
   "cell_type": "code",
   "execution_count": null,
   "metadata": {},
   "outputs": [
    {
     "name": "stdout",
     "output_type": "stream",
     "text": [
      "test images: 352\n"
     ]
    }
   ],
   "source": [
    "test_data = data.test_dl(get_image_files(test_path), with_labels=True)\n",
    "\n",
    "# print length of test dataset\n",
    "print('test images:', len(test_data.items))"
   ]
  },
  {
   "cell_type": "markdown",
   "metadata": {},
   "source": [
    "In the next cell, we will evaluate the performance of the trained model on the test dataset using the `evaluate_classification_model` function. This function will compute various evaluation metrics and display the results.\n",
    "\n",
    "You can customize the evaluation process by modifying the following parameters:\n",
    "- `show_graph`: Set to `True` to display a graph of the evaluation metrics. This can help visualize the model's performance.\n",
    "- `show_results`: Set to `True` to display the results of the evaluation, including the predicted labels and ground truth labels.\n",
    "\n",
    "For example, you can set `show_graph=True` to visualize the evaluation metrics, or set `show_results=True` to see the detailed results of the evaluation.\n",
    "\n",
    "By customizing these parameters, you can gain a deeper understanding of the model's performance and identify areas for improvement. This step is crucial for fine-tuning the model and ensuring that it generalizes well to unseen data."
   ]
  },
  {
   "cell_type": "code",
   "execution_count": null,
   "metadata": {},
   "outputs": [
    {
     "data": {
      "text/html": [
       "\n",
       "<style>\n",
       "    /* Turns off some styling */\n",
       "    progress {\n",
       "        /* gets rid of default border in Firefox and Opera. */\n",
       "        border: none;\n",
       "        /* Needs to be in here for Safari polyfill so background images work as expected. */\n",
       "        background-size: auto;\n",
       "    }\n",
       "    progress:not([value]), progress:not([value])::-webkit-progress-bar {\n",
       "        background: repeating-linear-gradient(45deg, #7e7e7e, #7e7e7e 10px, #5c5c5c 10px, #5c5c5c 20px);\n",
       "    }\n",
       "    .progress-bar-interrupted, .progress-bar-interrupted::-webkit-progress-bar {\n",
       "        background: #F44336;\n",
       "    }\n",
       "</style>\n"
      ],
      "text/plain": [
       "<IPython.core.display.HTML object>"
      ]
     },
     "metadata": {},
     "output_type": "display_data"
    },
    {
     "data": {
      "text/html": [],
      "text/plain": [
       "<IPython.core.display.HTML object>"
      ]
     },
     "metadata": {},
     "output_type": "display_data"
    },
    {
     "data": {
      "text/html": [
       "\n",
       "<style>\n",
       "    /* Turns off some styling */\n",
       "    progress {\n",
       "        /* gets rid of default border in Firefox and Opera. */\n",
       "        border: none;\n",
       "        /* Needs to be in here for Safari polyfill so background images work as expected. */\n",
       "        background-size: auto;\n",
       "    }\n",
       "    progress:not([value]), progress:not([value])::-webkit-progress-bar {\n",
       "        background: repeating-linear-gradient(45deg, #7e7e7e, #7e7e7e 10px, #5c5c5c 10px, #5c5c5c 20px);\n",
       "    }\n",
       "    .progress-bar-interrupted, .progress-bar-interrupted::-webkit-progress-bar {\n",
       "        background: #F44336;\n",
       "    }\n",
       "</style>\n"
      ],
      "text/plain": [
       "<IPython.core.display.HTML object>"
      ]
     },
     "metadata": {},
     "output_type": "display_data"
    },
    {
     "data": {
      "text/html": [],
      "text/plain": [
       "<IPython.core.display.HTML object>"
      ]
     },
     "metadata": {},
     "output_type": "display_data"
    },
    {
     "data": {
      "text/html": [
       "\n",
       "<style>\n",
       "    /* Turns off some styling */\n",
       "    progress {\n",
       "        /* gets rid of default border in Firefox and Opera. */\n",
       "        border: none;\n",
       "        /* Needs to be in here for Safari polyfill so background images work as expected. */\n",
       "        background-size: auto;\n",
       "    }\n",
       "    progress:not([value]), progress:not([value])::-webkit-progress-bar {\n",
       "        background: repeating-linear-gradient(45deg, #7e7e7e, #7e7e7e 10px, #5c5c5c 10px, #5c5c5c 20px);\n",
       "    }\n",
       "    .progress-bar-interrupted, .progress-bar-interrupted::-webkit-progress-bar {\n",
       "        background: #F44336;\n",
       "    }\n",
       "</style>\n"
      ],
      "text/plain": [
       "<IPython.core.display.HTML object>"
      ]
     },
     "metadata": {},
     "output_type": "display_data"
    },
    {
     "data": {
      "text/html": [],
      "text/plain": [
       "<IPython.core.display.HTML object>"
      ]
     },
     "metadata": {},
     "output_type": "display_data"
    },
    {
     "name": "stdout",
     "output_type": "stream",
     "text": [
      "              precision    recall  f1-score   support\n",
      "\n",
      "           0       0.55      0.12      0.19        95\n",
      "           1       0.75      0.96      0.84       257\n",
      "\n",
      "    accuracy                           0.74       352\n",
      "   macro avg       0.65      0.54      0.52       352\n",
      "weighted avg       0.69      0.74      0.67       352\n",
      "\n",
      "\n",
      "Most Confused Classes:\n"
     ]
    },
    {
     "data": {
      "text/html": [
       "\n",
       "<style>\n",
       "    /* Turns off some styling */\n",
       "    progress {\n",
       "        /* gets rid of default border in Firefox and Opera. */\n",
       "        border: none;\n",
       "        /* Needs to be in here for Safari polyfill so background images work as expected. */\n",
       "        background-size: auto;\n",
       "    }\n",
       "    progress:not([value]), progress:not([value])::-webkit-progress-bar {\n",
       "        background: repeating-linear-gradient(45deg, #7e7e7e, #7e7e7e 10px, #5c5c5c 10px, #5c5c5c 20px);\n",
       "    }\n",
       "    .progress-bar-interrupted, .progress-bar-interrupted::-webkit-progress-bar {\n",
       "        background: #F44336;\n",
       "    }\n",
       "</style>\n"
      ],
      "text/plain": [
       "<IPython.core.display.HTML object>"
      ]
     },
     "metadata": {},
     "output_type": "display_data"
    },
    {
     "data": {
      "text/html": [],
      "text/plain": [
       "<IPython.core.display.HTML object>"
      ]
     },
     "metadata": {},
     "output_type": "display_data"
    },
    {
     "name": "stdout",
     "output_type": "stream",
     "text": [
      "[('0', '1', 84), ('1', '0', 9)]\n"
     ]
    },
    {
     "data": {
      "text/html": [
       "<div>\n",
       "<style scoped>\n",
       "    .dataframe tbody tr th:only-of-type {\n",
       "        vertical-align: middle;\n",
       "    }\n",
       "\n",
       "    .dataframe tbody tr th {\n",
       "        vertical-align: top;\n",
       "    }\n",
       "\n",
       "    .dataframe thead th {\n",
       "        text-align: right;\n",
       "    }\n",
       "</style>\n",
       "<table border=\"1\" class=\"dataframe\">\n",
       "  <thead>\n",
       "    <tr style=\"text-align: right;\">\n",
       "      <th></th>\n",
       "      <th>Value</th>\n",
       "    </tr>\n",
       "    <tr>\n",
       "      <th>CrossEntropyLossFlat</th>\n",
       "      <th></th>\n",
       "    </tr>\n",
       "  </thead>\n",
       "  <tbody>\n",
       "    <tr>\n",
       "      <th>Mean</th>\n",
       "      <td>0.569036</td>\n",
       "    </tr>\n",
       "    <tr>\n",
       "      <th>Median</th>\n",
       "      <td>0.371100</td>\n",
       "    </tr>\n",
       "    <tr>\n",
       "      <th>Standard Deviation</th>\n",
       "      <td>0.336642</td>\n",
       "    </tr>\n",
       "    <tr>\n",
       "      <th>Min</th>\n",
       "      <td>0.313543</td>\n",
       "    </tr>\n",
       "    <tr>\n",
       "      <th>Max</th>\n",
       "      <td>1.311732</td>\n",
       "    </tr>\n",
       "    <tr>\n",
       "      <th>Q1</th>\n",
       "      <td>0.327354</td>\n",
       "    </tr>\n",
       "    <tr>\n",
       "      <th>Q3</th>\n",
       "      <td>0.752121</td>\n",
       "    </tr>\n",
       "  </tbody>\n",
       "</table>\n",
       "</div>"
      ],
      "text/plain": [
       "                         Value\n",
       "CrossEntropyLossFlat          \n",
       "Mean                  0.569036\n",
       "Median                0.371100\n",
       "Standard Deviation    0.336642\n",
       "Min                   0.313543\n",
       "Max                   1.311732\n",
       "Q1                    0.327354\n",
       "Q3                    0.752121"
      ]
     },
     "metadata": {},
     "output_type": "display_data"
    },
    {
     "data": {
      "image/png": "[encoded data removed]",
      "text/plain": [
       "<Figure size 640x480 with 1 Axes>"
      ]
     },
     "metadata": {},
     "output_type": "display_data"
    }
   ],
   "source": [
    "evaluate_classification_model(trainer, test_data, show_graph=False, show_results=False);"
   ]
  },
  {
   "cell_type": "markdown",
   "metadata": {},
   "source": [
    "### Load the Model\n",
    "\n",
    "In this step, we will load the previously trained model using the `load` method of the `visionTrainer` class. In this example, we will:\n",
    "\n",
    "> - Create a trainer instance and load the previously saved model.\n",
    "> - Fine tune the model a several epochs more.\n",
    "> - Evaluate the model with test data again."
   ]
  },
  {
   "cell_type": "code",
   "execution_count": null,
   "metadata": {},
   "outputs": [
    {
     "data": {
      "text/html": [
       "\n",
       "<style>\n",
       "    /* Turns off some styling */\n",
       "    progress {\n",
       "        /* gets rid of default border in Firefox and Opera. */\n",
       "        border: none;\n",
       "        /* Needs to be in here for Safari polyfill so background images work as expected. */\n",
       "        background-size: auto;\n",
       "    }\n",
       "    progress:not([value]), progress:not([value])::-webkit-progress-bar {\n",
       "        background: repeating-linear-gradient(45deg, #7e7e7e, #7e7e7e 10px, #5c5c5c 10px, #5c5c5c 20px);\n",
       "    }\n",
       "    .progress-bar-interrupted, .progress-bar-interrupted::-webkit-progress-bar {\n",
       "        background: #F44336;\n",
       "    }\n",
       "</style>\n"
      ],
      "text/plain": [
       "<IPython.core.display.HTML object>"
      ]
     },
     "metadata": {},
     "output_type": "display_data"
    },
    {
     "data": {
      "text/html": [],
      "text/plain": [
       "<IPython.core.display.HTML object>"
      ]
     },
     "metadata": {},
     "output_type": "display_data"
    },
    {
     "name": "stdout",
     "output_type": "stream",
     "text": [
      "SEResNet50 (Input shape: 4 x 1 x 32 x 32 x 32)\n",
      "============================================================================\n",
      "Layer (type)         Output Shape         Param #    Trainable \n",
      "============================================================================\n",
      "                     4 x 64 x 16 x 16 x  \n",
      "Conv3d                                    21952      True      \n",
      "BatchNorm3d                               128        True      \n",
      "ReLU                                                           \n",
      "____________________________________________________________________________\n",
      "                     4 x 64 x 8 x 8 x 8  \n",
      "MaxPool3d                                                      \n",
      "Conv3d                                    4096       True      \n",
      "BatchNorm3d                               128        True      \n",
      "ReLU                                                           \n",
      "Conv3d                                    110592     True      \n",
      "BatchNorm3d                               128        True      \n",
      "ReLU                                                           \n",
      "____________________________________________________________________________\n",
      "                     4 x 256 x 8 x 8 x 8 \n",
      "Conv3d                                    16384      True      \n",
      "BatchNorm3d                               512        True      \n",
      "____________________________________________________________________________\n",
      "                     4 x 256 x 1 x 1 x 1 \n",
      "AdaptiveAvgPool3d                                              \n",
      "____________________________________________________________________________\n",
      "                     4 x 16              \n",
      "Linear                                    4112       True      \n",
      "ReLU                                                           \n",
      "____________________________________________________________________________\n",
      "                     4 x 256             \n",
      "Linear                                    4352       True      \n",
      "Sigmoid                                                        \n",
      "____________________________________________________________________________\n",
      "                     4 x 256 x 8 x 8 x 8 \n",
      "Conv3d                                    16384      True      \n",
      "BatchNorm3d                               512        True      \n",
      "ReLU                                                           \n",
      "____________________________________________________________________________\n",
      "                     4 x 64 x 8 x 8 x 8  \n",
      "Conv3d                                    16384      True      \n",
      "BatchNorm3d                               128        True      \n",
      "ReLU                                                           \n",
      "Conv3d                                    110592     True      \n",
      "BatchNorm3d                               128        True      \n",
      "ReLU                                                           \n",
      "____________________________________________________________________________\n",
      "                     4 x 256 x 8 x 8 x 8 \n",
      "Conv3d                                    16384      True      \n",
      "BatchNorm3d                               512        True      \n",
      "____________________________________________________________________________\n",
      "                     4 x 256 x 1 x 1 x 1 \n",
      "AdaptiveAvgPool3d                                              \n",
      "____________________________________________________________________________\n",
      "                     4 x 16              \n",
      "Linear                                    4112       True      \n",
      "ReLU                                                           \n",
      "____________________________________________________________________________\n",
      "                     4 x 256             \n",
      "Linear                                    4352       True      \n",
      "Sigmoid                                                        \n",
      "Identity                                                       \n",
      "ReLU                                                           \n",
      "____________________________________________________________________________\n",
      "                     4 x 64 x 8 x 8 x 8  \n",
      "Conv3d                                    16384      True      \n",
      "BatchNorm3d                               128        True      \n",
      "ReLU                                                           \n",
      "Conv3d                                    110592     True      \n",
      "BatchNorm3d                               128        True      \n",
      "ReLU                                                           \n",
      "____________________________________________________________________________\n",
      "                     4 x 256 x 8 x 8 x 8 \n",
      "Conv3d                                    16384      True      \n",
      "BatchNorm3d                               512        True      \n",
      "____________________________________________________________________________\n",
      "                     4 x 256 x 1 x 1 x 1 \n",
      "AdaptiveAvgPool3d                                              \n",
      "____________________________________________________________________________\n",
      "                     4 x 16              \n",
      "Linear                                    4112       True      \n",
      "ReLU                                                           \n",
      "____________________________________________________________________________\n",
      "                     4 x 256             \n",
      "Linear                                    4352       True      \n",
      "Sigmoid                                                        \n",
      "Identity                                                       \n",
      "ReLU                                                           \n",
      "____________________________________________________________________________\n",
      "                     4 x 128 x 4 x 4 x 4 \n",
      "Conv3d                                    32768      True      \n",
      "BatchNorm3d                               256        True      \n",
      "ReLU                                                           \n",
      "Conv3d                                    442368     True      \n",
      "BatchNorm3d                               256        True      \n",
      "ReLU                                                           \n",
      "____________________________________________________________________________\n",
      "                     4 x 512 x 4 x 4 x 4 \n",
      "Conv3d                                    65536      True      \n",
      "BatchNorm3d                               1024       True      \n",
      "____________________________________________________________________________\n",
      "                     4 x 512 x 1 x 1 x 1 \n",
      "AdaptiveAvgPool3d                                              \n",
      "____________________________________________________________________________\n",
      "                     4 x 32              \n",
      "Linear                                    16416      True      \n",
      "ReLU                                                           \n",
      "____________________________________________________________________________\n",
      "                     4 x 512             \n",
      "Linear                                    16896      True      \n",
      "Sigmoid                                                        \n",
      "____________________________________________________________________________\n",
      "                     4 x 512 x 4 x 4 x 4 \n",
      "Conv3d                                    131072     True      \n",
      "BatchNorm3d                               1024       True      \n",
      "ReLU                                                           \n",
      "____________________________________________________________________________\n",
      "                     4 x 128 x 4 x 4 x 4 \n",
      "Conv3d                                    65536      True      \n",
      "BatchNorm3d                               256        True      \n",
      "ReLU                                                           \n",
      "Conv3d                                    442368     True      \n",
      "BatchNorm3d                               256        True      \n",
      "ReLU                                                           \n",
      "____________________________________________________________________________\n",
      "                     4 x 512 x 4 x 4 x 4 \n",
      "Conv3d                                    65536      True      \n",
      "BatchNorm3d                               1024       True      \n",
      "____________________________________________________________________________\n",
      "                     4 x 512 x 1 x 1 x 1 \n",
      "AdaptiveAvgPool3d                                              \n",
      "____________________________________________________________________________\n",
      "                     4 x 32              \n",
      "Linear                                    16416      True      \n",
      "ReLU                                                           \n",
      "____________________________________________________________________________\n",
      "                     4 x 512             \n",
      "Linear                                    16896      True      \n",
      "Sigmoid                                                        \n",
      "Identity                                                       \n",
      "ReLU                                                           \n",
      "____________________________________________________________________________\n",
      "                     4 x 128 x 4 x 4 x 4 \n",
      "Conv3d                                    65536      True      \n",
      "BatchNorm3d                               256        True      \n",
      "ReLU                                                           \n",
      "Conv3d                                    442368     True      \n",
      "BatchNorm3d                               256        True      \n",
      "ReLU                                                           \n",
      "____________________________________________________________________________\n",
      "                     4 x 512 x 4 x 4 x 4 \n",
      "Conv3d                                    65536      True      \n",
      "BatchNorm3d                               1024       True      \n",
      "____________________________________________________________________________\n",
      "                     4 x 512 x 1 x 1 x 1 \n",
      "AdaptiveAvgPool3d                                              \n",
      "____________________________________________________________________________\n",
      "                     4 x 32              \n",
      "Linear                                    16416      True      \n",
      "ReLU                                                           \n",
      "____________________________________________________________________________\n",
      "                     4 x 512             \n",
      "Linear                                    16896      True      \n",
      "Sigmoid                                                        \n",
      "Identity                                                       \n",
      "ReLU                                                           \n",
      "____________________________________________________________________________\n",
      "                     4 x 128 x 4 x 4 x 4 \n",
      "Conv3d                                    65536      True      \n",
      "BatchNorm3d                               256        True      \n",
      "ReLU                                                           \n",
      "Conv3d                                    442368     True      \n",
      "BatchNorm3d                               256        True      \n",
      "ReLU                                                           \n",
      "____________________________________________________________________________\n",
      "                     4 x 512 x 4 x 4 x 4 \n",
      "Conv3d                                    65536      True      \n",
      "BatchNorm3d                               1024       True      \n",
      "____________________________________________________________________________\n",
      "                     4 x 512 x 1 x 1 x 1 \n",
      "AdaptiveAvgPool3d                                              \n",
      "____________________________________________________________________________\n",
      "                     4 x 32              \n",
      "Linear                                    16416      True      \n",
      "ReLU                                                           \n",
      "____________________________________________________________________________\n",
      "                     4 x 512             \n",
      "Linear                                    16896      True      \n",
      "Sigmoid                                                        \n",
      "Identity                                                       \n",
      "ReLU                                                           \n",
      "____________________________________________________________________________\n",
      "                     4 x 256 x 2 x 2 x 2 \n",
      "Conv3d                                    131072     True      \n",
      "BatchNorm3d                               512        True      \n",
      "ReLU                                                           \n",
      "Conv3d                                    1769472    True      \n",
      "BatchNorm3d                               512        True      \n",
      "ReLU                                                           \n",
      "____________________________________________________________________________\n",
      "                     4 x 1024 x 2 x 2 x  \n",
      "Conv3d                                    262144     True      \n",
      "BatchNorm3d                               2048       True      \n",
      "____________________________________________________________________________\n",
      "                     4 x 1024 x 1 x 1 x  \n",
      "AdaptiveAvgPool3d                                              \n",
      "____________________________________________________________________________\n",
      "                     4 x 64              \n",
      "Linear                                    65600      True      \n",
      "ReLU                                                           \n",
      "____________________________________________________________________________\n",
      "                     4 x 1024            \n",
      "Linear                                    66560      True      \n",
      "Sigmoid                                                        \n",
      "____________________________________________________________________________\n",
      "                     4 x 1024 x 2 x 2 x  \n",
      "Conv3d                                    524288     True      \n",
      "BatchNorm3d                               2048       True      \n",
      "ReLU                                                           \n",
      "____________________________________________________________________________\n",
      "                     4 x 256 x 2 x 2 x 2 \n",
      "Conv3d                                    262144     True      \n",
      "BatchNorm3d                               512        True      \n",
      "ReLU                                                           \n",
      "Conv3d                                    1769472    True      \n",
      "BatchNorm3d                               512        True      \n",
      "ReLU                                                           \n",
      "____________________________________________________________________________\n",
      "                     4 x 1024 x 2 x 2 x  \n",
      "Conv3d                                    262144     True      \n",
      "BatchNorm3d                               2048       True      \n",
      "____________________________________________________________________________\n",
      "                     4 x 1024 x 1 x 1 x  \n",
      "AdaptiveAvgPool3d                                              \n",
      "____________________________________________________________________________\n",
      "                     4 x 64              \n",
      "Linear                                    65600      True      \n",
      "ReLU                                                           \n",
      "____________________________________________________________________________\n",
      "                     4 x 1024            \n",
      "Linear                                    66560      True      \n",
      "Sigmoid                                                        \n",
      "Identity                                                       \n",
      "ReLU                                                           \n",
      "____________________________________________________________________________\n",
      "                     4 x 256 x 2 x 2 x 2 \n",
      "Conv3d                                    262144     True      \n",
      "BatchNorm3d                               512        True      \n",
      "ReLU                                                           \n",
      "Conv3d                                    1769472    True      \n",
      "BatchNorm3d                               512        True      \n",
      "ReLU                                                           \n",
      "____________________________________________________________________________\n",
      "                     4 x 1024 x 2 x 2 x  \n",
      "Conv3d                                    262144     True      \n",
      "BatchNorm3d                               2048       True      \n",
      "____________________________________________________________________________\n",
      "                     4 x 1024 x 1 x 1 x  \n",
      "AdaptiveAvgPool3d                                              \n",
      "____________________________________________________________________________\n",
      "                     4 x 64              \n",
      "Linear                                    65600      True      \n",
      "ReLU                                                           \n",
      "____________________________________________________________________________\n",
      "                     4 x 1024            \n",
      "Linear                                    66560      True      \n",
      "Sigmoid                                                        \n",
      "Identity                                                       \n",
      "ReLU                                                           \n",
      "____________________________________________________________________________\n",
      "                     4 x 256 x 2 x 2 x 2 \n",
      "Conv3d                                    262144     True      \n",
      "BatchNorm3d                               512        True      \n",
      "ReLU                                                           \n",
      "Conv3d                                    1769472    True      \n",
      "BatchNorm3d                               512        True      \n",
      "ReLU                                                           \n",
      "____________________________________________________________________________\n",
      "                     4 x 1024 x 2 x 2 x  \n",
      "Conv3d                                    262144     True      \n",
      "BatchNorm3d                               2048       True      \n",
      "____________________________________________________________________________\n",
      "                     4 x 1024 x 1 x 1 x  \n",
      "AdaptiveAvgPool3d                                              \n",
      "____________________________________________________________________________\n",
      "                     4 x 64              \n",
      "Linear                                    65600      True      \n",
      "ReLU                                                           \n",
      "____________________________________________________________________________\n",
      "                     4 x 1024            \n",
      "Linear                                    66560      True      \n",
      "Sigmoid                                                        \n",
      "Identity                                                       \n",
      "ReLU                                                           \n",
      "____________________________________________________________________________\n",
      "                     4 x 256 x 2 x 2 x 2 \n",
      "Conv3d                                    262144     True      \n",
      "BatchNorm3d                               512        True      \n",
      "ReLU                                                           \n",
      "Conv3d                                    1769472    True      \n",
      "BatchNorm3d                               512        True      \n",
      "ReLU                                                           \n",
      "____________________________________________________________________________\n",
      "                     4 x 1024 x 2 x 2 x  \n",
      "Conv3d                                    262144     True      \n",
      "BatchNorm3d                               2048       True      \n",
      "____________________________________________________________________________\n",
      "                     4 x 1024 x 1 x 1 x  \n",
      "AdaptiveAvgPool3d                                              \n",
      "____________________________________________________________________________\n",
      "                     4 x 64              \n",
      "Linear                                    65600      True      \n",
      "ReLU                                                           \n",
      "____________________________________________________________________________\n",
      "                     4 x 1024            \n",
      "Linear                                    66560      True      \n",
      "Sigmoid                                                        \n",
      "Identity                                                       \n",
      "ReLU                                                           \n",
      "____________________________________________________________________________\n",
      "                     4 x 256 x 2 x 2 x 2 \n",
      "Conv3d                                    262144     True      \n",
      "BatchNorm3d                               512        True      \n",
      "ReLU                                                           \n",
      "Conv3d                                    1769472    True      \n",
      "BatchNorm3d                               512        True      \n",
      "ReLU                                                           \n",
      "____________________________________________________________________________\n",
      "                     4 x 1024 x 2 x 2 x  \n",
      "Conv3d                                    262144     True      \n",
      "BatchNorm3d                               2048       True      \n",
      "____________________________________________________________________________\n",
      "                     4 x 1024 x 1 x 1 x  \n",
      "AdaptiveAvgPool3d                                              \n",
      "____________________________________________________________________________\n",
      "                     4 x 64              \n",
      "Linear                                    65600      True      \n",
      "ReLU                                                           \n",
      "____________________________________________________________________________\n",
      "                     4 x 1024            \n",
      "Linear                                    66560      True      \n",
      "Sigmoid                                                        \n",
      "Identity                                                       \n",
      "ReLU                                                           \n",
      "____________________________________________________________________________\n",
      "                     4 x 512 x 1 x 1 x 1 \n",
      "Conv3d                                    524288     True      \n",
      "BatchNorm3d                               1024       True      \n",
      "ReLU                                                           \n",
      "Conv3d                                    7077888    True      \n",
      "BatchNorm3d                               1024       True      \n",
      "ReLU                                                           \n",
      "____________________________________________________________________________\n",
      "                     4 x 2048 x 1 x 1 x  \n",
      "Conv3d                                    1048576    True      \n",
      "BatchNorm3d                               4096       True      \n",
      "AdaptiveAvgPool3d                                              \n",
      "____________________________________________________________________________\n",
      "                     4 x 128             \n",
      "Linear                                    262272     True      \n",
      "ReLU                                                           \n",
      "____________________________________________________________________________\n",
      "                     4 x 2048            \n",
      "Linear                                    264192     True      \n",
      "Sigmoid                                                        \n",
      "____________________________________________________________________________\n",
      "                     4 x 2048 x 1 x 1 x  \n",
      "Conv3d                                    2097152    True      \n",
      "BatchNorm3d                               4096       True      \n",
      "ReLU                                                           \n",
      "____________________________________________________________________________\n",
      "                     4 x 512 x 1 x 1 x 1 \n",
      "Conv3d                                    1048576    True      \n",
      "BatchNorm3d                               1024       True      \n",
      "ReLU                                                           \n",
      "Conv3d                                    7077888    True      \n",
      "BatchNorm3d                               1024       True      \n",
      "ReLU                                                           \n",
      "____________________________________________________________________________\n",
      "                     4 x 2048 x 1 x 1 x  \n",
      "Conv3d                                    1048576    True      \n",
      "BatchNorm3d                               4096       True      \n",
      "AdaptiveAvgPool3d                                              \n",
      "____________________________________________________________________________\n",
      "                     4 x 128             \n",
      "Linear                                    262272     True      \n",
      "ReLU                                                           \n",
      "____________________________________________________________________________\n",
      "                     4 x 2048            \n",
      "Linear                                    264192     True      \n",
      "Sigmoid                                                        \n",
      "Identity                                                       \n",
      "ReLU                                                           \n",
      "____________________________________________________________________________\n",
      "                     4 x 512 x 1 x 1 x 1 \n",
      "Conv3d                                    1048576    True      \n",
      "BatchNorm3d                               1024       True      \n",
      "ReLU                                                           \n",
      "Conv3d                                    7077888    True      \n",
      "BatchNorm3d                               1024       True      \n",
      "ReLU                                                           \n",
      "____________________________________________________________________________\n",
      "                     4 x 2048 x 1 x 1 x  \n",
      "Conv3d                                    1048576    True      \n",
      "BatchNorm3d                               4096       True      \n",
      "AdaptiveAvgPool3d                                              \n",
      "____________________________________________________________________________\n",
      "                     4 x 128             \n",
      "Linear                                    262272     True      \n",
      "ReLU                                                           \n",
      "____________________________________________________________________________\n",
      "                     4 x 2048            \n",
      "Linear                                    264192     True      \n",
      "Sigmoid                                                        \n",
      "Identity                                                       \n",
      "ReLU                                                           \n",
      "AdaptiveAvgPool3d                                              \n",
      "____________________________________________________________________________\n",
      "                     4 x 2               \n",
      "Linear                                    4098       True      \n",
      "____________________________________________________________________________\n",
      "\n",
      "Total params: 48,690,162\n",
      "Total trainable params: 48,690,162\n",
      "Total non-trainable params: 0\n",
      "\n",
      "Optimizer used: <function Adam>\n",
      "Loss function: FlattenedLoss of CrossEntropyLoss()\n",
      "\n",
      "Callbacks:\n",
      "  - TrainEvalCallback\n",
      "  - CastToTensor\n",
      "  - Recorder\n",
      "  - ProgressCallback\n",
      "  - ShowGraphCallback\n"
     ]
    },
    {
     "data": {
      "text/html": [
       "\n",
       "<style>\n",
       "    /* Turns off some styling */\n",
       "    progress {\n",
       "        /* gets rid of default border in Firefox and Opera. */\n",
       "        border: none;\n",
       "        /* Needs to be in here for Safari polyfill so background images work as expected. */\n",
       "        background-size: auto;\n",
       "    }\n",
       "    progress:not([value]), progress:not([value])::-webkit-progress-bar {\n",
       "        background: repeating-linear-gradient(45deg, #7e7e7e, #7e7e7e 10px, #5c5c5c 10px, #5c5c5c 20px);\n",
       "    }\n",
       "    .progress-bar-interrupted, .progress-bar-interrupted::-webkit-progress-bar {\n",
       "        background: #F44336;\n",
       "    }\n",
       "</style>\n"
      ],
      "text/plain": [
       "<IPython.core.display.HTML object>"
      ]
     },
     "metadata": {},
     "output_type": "display_data"
    },
    {
     "data": {
      "text/html": [],
      "text/plain": [
       "<IPython.core.display.HTML object>"
      ]
     },
     "metadata": {},
     "output_type": "display_data"
    },
    {
     "name": "stdout",
     "output_type": "stream",
     "text": [
      "Inferred learning rate:  9e-05\n"
     ]
    },
    {
     "data": {
      "text/html": [
       "\n",
       "<style>\n",
       "    /* Turns off some styling */\n",
       "    progress {\n",
       "        /* gets rid of default border in Firefox and Opera. */\n",
       "        border: none;\n",
       "        /* Needs to be in here for Safari polyfill so background images work as expected. */\n",
       "        background-size: auto;\n",
       "    }\n",
       "    progress:not([value]), progress:not([value])::-webkit-progress-bar {\n",
       "        background: repeating-linear-gradient(45deg, #7e7e7e, #7e7e7e 10px, #5c5c5c 10px, #5c5c5c 20px);\n",
       "    }\n",
       "    .progress-bar-interrupted, .progress-bar-interrupted::-webkit-progress-bar {\n",
       "        background: #F44336;\n",
       "    }\n",
       "</style>\n"
      ],
      "text/plain": [
       "<IPython.core.display.HTML object>"
      ]
     },
     "metadata": {},
     "output_type": "display_data"
    },
    {
     "data": {
      "text/html": [
       "<table border=\"1\" class=\"dataframe\">\n",
       "  <thead>\n",
       "    <tr style=\"text-align: left;\">\n",
       "      <th>epoch</th>\n",
       "      <th>train_loss</th>\n",
       "      <th>valid_loss</th>\n",
       "      <th>balanced_accuracy_score</th>\n",
       "      <th>time</th>\n",
       "    </tr>\n",
       "  </thead>\n",
       "  <tbody>\n",
       "    <tr>\n",
       "      <td>0</td>\n",
       "      <td>0.773258</td>\n",
       "      <td>720.890076</td>\n",
       "      <td>0.500000</td>\n",
       "      <td>00:36</td>\n",
       "    </tr>\n",
       "    <tr>\n",
       "      <td>1</td>\n",
       "      <td>0.580104</td>\n",
       "      <td>2.034007</td>\n",
       "      <td>0.500000</td>\n",
       "      <td>00:33</td>\n",
       "    </tr>\n",
       "  </tbody>\n",
       "</table>"
      ],
      "text/plain": [
       "<IPython.core.display.HTML object>"
      ]
     },
     "metadata": {},
     "output_type": "display_data"
    },
    {
     "data": {
      "image/png": "[encoded data removed]",
      "text/plain": [
       "<Figure size 600x400 with 1 Axes>"
      ]
     },
     "metadata": {},
     "output_type": "display_data"
    },
    {
     "data": {
      "text/html": [
       "\n",
       "<style>\n",
       "    /* Turns off some styling */\n",
       "    progress {\n",
       "        /* gets rid of default border in Firefox and Opera. */\n",
       "        border: none;\n",
       "        /* Needs to be in here for Safari polyfill so background images work as expected. */\n",
       "        background-size: auto;\n",
       "    }\n",
       "    progress:not([value]), progress:not([value])::-webkit-progress-bar {\n",
       "        background: repeating-linear-gradient(45deg, #7e7e7e, #7e7e7e 10px, #5c5c5c 10px, #5c5c5c 20px);\n",
       "    }\n",
       "    .progress-bar-interrupted, .progress-bar-interrupted::-webkit-progress-bar {\n",
       "        background: #F44336;\n",
       "    }\n",
       "</style>\n"
      ],
      "text/plain": [
       "<IPython.core.display.HTML object>"
      ]
     },
     "metadata": {},
     "output_type": "display_data"
    },
    {
     "data": {
      "text/html": [],
      "text/plain": [
       "<IPython.core.display.HTML object>"
      ]
     },
     "metadata": {},
     "output_type": "display_data"
    },
    {
     "data": {
      "text/html": [
       "\n",
       "<style>\n",
       "    /* Turns off some styling */\n",
       "    progress {\n",
       "        /* gets rid of default border in Firefox and Opera. */\n",
       "        border: none;\n",
       "        /* Needs to be in here for Safari polyfill so background images work as expected. */\n",
       "        background-size: auto;\n",
       "    }\n",
       "    progress:not([value]), progress:not([value])::-webkit-progress-bar {\n",
       "        background: repeating-linear-gradient(45deg, #7e7e7e, #7e7e7e 10px, #5c5c5c 10px, #5c5c5c 20px);\n",
       "    }\n",
       "    .progress-bar-interrupted, .progress-bar-interrupted::-webkit-progress-bar {\n",
       "        background: #F44336;\n",
       "    }\n",
       "</style>\n"
      ],
      "text/plain": [
       "<IPython.core.display.HTML object>"
      ]
     },
     "metadata": {},
     "output_type": "display_data"
    },
    {
     "data": {
      "text/html": [],
      "text/plain": [
       "<IPython.core.display.HTML object>"
      ]
     },
     "metadata": {},
     "output_type": "display_data"
    },
    {
     "name": "stderr",
     "output_type": "stream",
     "text": [
      "y_pred contains classes not in y_true\n"
     ]
    },
    {
     "data": {
      "text/html": [
       "\n",
       "<style>\n",
       "    /* Turns off some styling */\n",
       "    progress {\n",
       "        /* gets rid of default border in Firefox and Opera. */\n",
       "        border: none;\n",
       "        /* Needs to be in here for Safari polyfill so background images work as expected. */\n",
       "        background-size: auto;\n",
       "    }\n",
       "    progress:not([value]), progress:not([value])::-webkit-progress-bar {\n",
       "        background: repeating-linear-gradient(45deg, #7e7e7e, #7e7e7e 10px, #5c5c5c 10px, #5c5c5c 20px);\n",
       "    }\n",
       "    .progress-bar-interrupted, .progress-bar-interrupted::-webkit-progress-bar {\n",
       "        background: #F44336;\n",
       "    }\n",
       "</style>\n"
      ],
      "text/plain": [
       "<IPython.core.display.HTML object>"
      ]
     },
     "metadata": {},
     "output_type": "display_data"
    },
    {
     "data": {
      "text/html": [],
      "text/plain": [
       "<IPython.core.display.HTML object>"
      ]
     },
     "metadata": {},
     "output_type": "display_data"
    },
    {
     "data": {
      "text/html": [
       "\n",
       "<style>\n",
       "    /* Turns off some styling */\n",
       "    progress {\n",
       "        /* gets rid of default border in Firefox and Opera. */\n",
       "        border: none;\n",
       "        /* Needs to be in here for Safari polyfill so background images work as expected. */\n",
       "        background-size: auto;\n",
       "    }\n",
       "    progress:not([value]), progress:not([value])::-webkit-progress-bar {\n",
       "        background: repeating-linear-gradient(45deg, #7e7e7e, #7e7e7e 10px, #5c5c5c 10px, #5c5c5c 20px);\n",
       "    }\n",
       "    .progress-bar-interrupted, .progress-bar-interrupted::-webkit-progress-bar {\n",
       "        background: #F44336;\n",
       "    }\n",
       "</style>\n"
      ],
      "text/plain": [
       "<IPython.core.display.HTML object>"
      ]
     },
     "metadata": {},
     "output_type": "display_data"
    },
    {
     "data": {
      "text/html": [],
      "text/plain": [
       "<IPython.core.display.HTML object>"
      ]
     },
     "metadata": {},
     "output_type": "display_data"
    },
    {
     "name": "stdout",
     "output_type": "stream",
     "text": [
      "              precision    recall  f1-score   support\n",
      "\n",
      "           0       0.00      0.00      0.00        95\n",
      "           1       0.73      1.00      0.84       257\n",
      "\n",
      "    accuracy                           0.73       352\n",
      "   macro avg       0.37      0.50      0.42       352\n",
      "weighted avg       0.53      0.73      0.62       352\n",
      "\n",
      "\n",
      "Most Confused Classes:\n"
     ]
    },
    {
     "name": "stderr",
     "output_type": "stream",
     "text": [
      "Precision and F-score are ill-defined and being set to 0.0 in labels with no predicted samples. Use `zero_division` parameter to control this behavior.\n",
      "Precision and F-score are ill-defined and being set to 0.0 in labels with no predicted samples. Use `zero_division` parameter to control this behavior.\n",
      "Precision and F-score are ill-defined and being set to 0.0 in labels with no predicted samples. Use `zero_division` parameter to control this behavior.\n"
     ]
    },
    {
     "data": {
      "text/html": [
       "\n",
       "<style>\n",
       "    /* Turns off some styling */\n",
       "    progress {\n",
       "        /* gets rid of default border in Firefox and Opera. */\n",
       "        border: none;\n",
       "        /* Needs to be in here for Safari polyfill so background images work as expected. */\n",
       "        background-size: auto;\n",
       "    }\n",
       "    progress:not([value]), progress:not([value])::-webkit-progress-bar {\n",
       "        background: repeating-linear-gradient(45deg, #7e7e7e, #7e7e7e 10px, #5c5c5c 10px, #5c5c5c 20px);\n",
       "    }\n",
       "    .progress-bar-interrupted, .progress-bar-interrupted::-webkit-progress-bar {\n",
       "        background: #F44336;\n",
       "    }\n",
       "</style>\n"
      ],
      "text/plain": [
       "<IPython.core.display.HTML object>"
      ]
     },
     "metadata": {},
     "output_type": "display_data"
    },
    {
     "data": {
      "text/html": [],
      "text/plain": [
       "<IPython.core.display.HTML object>"
      ]
     },
     "metadata": {},
     "output_type": "display_data"
    },
    {
     "name": "stdout",
     "output_type": "stream",
     "text": [
      "[('0', '1', 95)]\n"
     ]
    },
    {
     "data": {
      "text/html": [
       "<div>\n",
       "<style scoped>\n",
       "    .dataframe tbody tr th:only-of-type {\n",
       "        vertical-align: middle;\n",
       "    }\n",
       "\n",
       "    .dataframe tbody tr th {\n",
       "        vertical-align: top;\n",
       "    }\n",
       "\n",
       "    .dataframe thead th {\n",
       "        text-align: right;\n",
       "    }\n",
       "</style>\n",
       "<table border=\"1\" class=\"dataframe\">\n",
       "  <thead>\n",
       "    <tr style=\"text-align: right;\">\n",
       "      <th></th>\n",
       "      <th>Value</th>\n",
       "    </tr>\n",
       "    <tr>\n",
       "      <th>CrossEntropyLossFlat</th>\n",
       "      <th></th>\n",
       "    </tr>\n",
       "  </thead>\n",
       "  <tbody>\n",
       "    <tr>\n",
       "      <th>Mean</th>\n",
       "      <td>0.620394</td>\n",
       "    </tr>\n",
       "    <tr>\n",
       "      <th>Median</th>\n",
       "      <td>0.506887</td>\n",
       "    </tr>\n",
       "    <tr>\n",
       "      <th>Standard Deviation</th>\n",
       "      <td>0.223886</td>\n",
       "    </tr>\n",
       "    <tr>\n",
       "      <th>Min</th>\n",
       "      <td>0.313262</td>\n",
       "    </tr>\n",
       "    <tr>\n",
       "      <th>Max</th>\n",
       "      <td>1.313262</td>\n",
       "    </tr>\n",
       "    <tr>\n",
       "      <th>Q1</th>\n",
       "      <td>0.506723</td>\n",
       "    </tr>\n",
       "    <tr>\n",
       "      <th>Q3</th>\n",
       "      <td>0.916297</td>\n",
       "    </tr>\n",
       "  </tbody>\n",
       "</table>\n",
       "</div>"
      ],
      "text/plain": [
       "                         Value\n",
       "CrossEntropyLossFlat          \n",
       "Mean                  0.620394\n",
       "Median                0.506887\n",
       "Standard Deviation    0.223886\n",
       "Min                   0.313262\n",
       "Max                   1.313262\n",
       "Q1                    0.506723\n",
       "Q3                    0.916297"
      ]
     },
     "metadata": {},
     "output_type": "display_data"
    },
    {
     "data": {
      "image/png": "[encoded data removed]",
      "text/plain": [
       "<Figure size 640x480 with 1 Axes>"
      ]
     },
     "metadata": {},
     "output_type": "display_data"
    },
    {
     "data": {
      "image/png": "[encoded data removed]",
      "text/plain": [
       "<Figure size 600x600 with 4 Axes>"
      ]
     },
     "metadata": {},
     "output_type": "display_data"
    },
    {
     "data": {
      "image/png": "[encoded data removed]",
      "text/plain": [
       "<Figure size 640x480 with 1 Axes>"
      ]
     },
     "metadata": {},
     "output_type": "display_data"
    }
   ],
   "source": [
    "model = SEResNet50(spatial_dims=3, in_channels=1, num_classes=2)\n",
    "\n",
    "loss = CrossEntropyLossFlat()\n",
    "metrics = BalancedAccuracy()\n",
    "\n",
    "trainer2 = fastTrainer(data, model, loss_fn=loss, metrics=metrics, show_summary=True, find_lr=True)\n",
    "\n",
    "# Load saved model\n",
    "trainer2.load('tmp-model')\n",
    "\n",
    "# Train several additional epochs\n",
    "trainer2.fit_one_cycle(2, lr_max=4e-2)\n",
    "\n",
    "# Evaluate the model on the test dataset\n",
    "evaluate_classification_model(trainer2, test_data, show_graph=False);"
   ]
  }
 ],
 "metadata": {
  "kernelspec": {
   "display_name": "python3",
   "language": "python",
   "name": "python3"
  }
 },
 "nbformat": 4,
 "nbformat_minor": 4
}
