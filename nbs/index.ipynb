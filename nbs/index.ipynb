{
 "cells": [
  {
   "cell_type": "code",
   "execution_count": null,
   "metadata": {},
   "outputs": [],
   "source": [
    "#| hide\n",
    "from bioMONAI.core import *"
   ]
  },
  {
   "cell_type": "markdown",
   "metadata": {},
   "source": [
    "![](./data_examples/logo_bioMONAI_full.png)"
   ]
  },
  {
   "cell_type": "markdown",
   "metadata": {},
   "source": [
    "# bioMONAI\n",
    "\n",
    "> Deep learning library for biomedical data built on top of MONAI and fastai"
   ]
  },
  {
   "cell_type": "markdown",
   "metadata": {},
   "source": [
    "[![](https://img.shields.io/badge/docs-stable-blue.svg)](https://deepclem.github.io/bioMONAI/)\n",
    "[![License](https://img.shields.io/badge/license-Apache%202.0-blue.svg)](https://opensource.org/licenses/Apache-2.0)\n",
    "![Python Version](https://img.shields.io/badge/python-3.7+-blue.svg)\n",
    "![Jupyter Notebook](https://img.shields.io/badge/jupyter-%23f37626.svg?style=flat&logo=jupyter&logoColor=white)\n"
   ]
  },
  {
   "cell_type": "markdown",
   "metadata": {},
   "source": [
    "\n",
    "## Overview\n",
    "\n",
    "bioMONAI is a low-code Python-based platform for developing and deploying deep learning models in biomedical imaging built on top of the [MONAI](https://monai.io/) framework, [fastai](https://github.com/fastai/fastai), and [TorchIO](https://torchio.readthedocs.io/). This project aims to facilitate interoperability, reproducibility, and community collaboration in biomedical research.\n",
    "\n",
    "\n",
    "![](./data_examples/Fig_bioMONAI.png)\n"
   ]
  },
  {
   "cell_type": "markdown",
   "metadata": {},
   "source": [
    "\n",
    "## Table of Contents\n",
    "\n",
    "- [bioMONAI](#biomonai)\n",
    "  - [Overview](#overview)\n",
    "  - [Table of Contents](#table-of-contents)\n",
    "  - [Installation](#installation)\n",
    "  - [Getting Started](#getting-started)\n",
    "  - [Usage](#usage)\n",
    "  - [Contributing](#contributing)\n",
    "  - [License](#license)\n",
    "  - [Contact](#contact)\n"
   ]
  },
  {
   "cell_type": "markdown",
   "metadata": {},
   "source": [
    "\n",
    "## Installation\n",
    "\n",
    "To install the bioMONAI environment, follow these steps:\n",
    "\n",
    "1. **Clone the repository:**\n",
    "   ```bash\n",
    "   git clone https://github.com/deepclem/biomonai.git\n",
    "   cd biomonai\n",
    "   ```\n",
    "\n",
    "2. **Create a new Conda environment and install dependencies:**\n",
    "   ```bash\n",
    "   conda env create --file bioMONAI-env.yml\n",
    "   ```\n",
    "\n",
    "3. **Activate the environment and install MONAI:**\n",
    "   ```bash\n",
    "   conda activate bioMONAI-env\n",
    "   pip install -e .\n",
    "   ```\n"
   ]
  },
  {
   "cell_type": "markdown",
   "metadata": {},
   "source": [
    "\n",
    "## Getting Started\n",
    "\n",
    "To get started with bioMONAI, we recommend exploring our tutorials, which guide you through model training for various tasks such as classification and denoising.\n",
    "\n",
    "| Notebook | Open in Colab |\n",
    "|:---|:-----:|\n",
    "| [Tutorial: Classification 2D](https://github.com/deepCLEM/bioMONAI/blob/main/nbs/Tutorials/901_tutorial_classification.ipynb) <br> This notebook provides a comprehensive guide on training deep learning models for 2D image classification tasks, covering data loading, preprocessing, model building, training, and evaluation. | [![Open in Colab](https://colab.research.google.com/assets/colab-badge.svg)](https://githubtocolab.com/deepCLEM/bioMONAI/blob/main/nbs/Tutorials/901_tutorial_classification.ipynb) |\n",
    "| [Tutorial: Denoising 2D](https://github.com/deepCLEM/bioMONAI/blob/main/nbs/Tutorials/903_tutorial_denoising.ipynb) <br> This notebook offers a detailed guide on applying deep learning techniques to denoise biological microscopy images. It covers data preparation, model architecture, training processes, and evaluation methods, providing a comprehensive resource for enhancing image quality in biological research. | [![Open in Colab](https://colab.research.google.com/assets/colab-badge.svg)](https://githubtocolab.com/deepCLEM/bioMONAI/blob/main/nbs/Tutorials/903_tutorial_denoising.ipynb) | "
   ]
  },
  {
   "cell_type": "markdown",
   "metadata": {},
   "source": [
    "\n",
    "## Usage\n",
    "\n",
    "To use bioMONAI for your own projects, follow these steps:\n",
    "\n",
    "1. **Create a new Jupyter notebook or open an existing one.**\n",
    "2. **Import necessary modules:**\n",
    "   ```python\n",
    "   import bioMONAI\n",
    "   ```\n",
    "\n",
    "3. **Start coding! You can now leverage MONAI's capabilities alongside the interactive features of Jupyter notebooks.**\n"
   ]
  },
  {
   "cell_type": "markdown",
   "metadata": {},
   "source": [
    "\n",
    "## Contributing\n",
    "\n",
    "We welcome contributions from the community! To contribute to BioMONAI nbs, follow these steps:\n",
    "\n",
    "1. **Fork the repository on GitHub.**\n",
    "1. **Clone your fork:**\n",
    "   ```bash\n",
    "   git clone https://github.com/your_username/biomonai.git\n",
    "   cd biomonai\n",
    "   ```\n",
    "1. **Create a new Conda environment and install dependencies:**\n",
    "   ```bash\n",
    "   conda env create --file bioMONAI-env.yml\n",
    "   ```\n",
    "\n",
    "1. **Create a new branch for your changes:**\n",
    "   ```bash\n",
    "   git checkout -b feature/new-feature\n",
    "   ```\n",
    "\n",
    "1. **Activate the environment and install MONAI in dev mode:**\n",
    "   ```bash\n",
    "   conda activate bioMONAI-env\n",
    "   pip install -e .[dev]\n",
    "   ```\n",
    "\n",
    "1. **Make your changes and commit them:**\n",
    "   ```bash\n",
    "   git add .\n",
    "   git commit -m \"Add new feature: <feature description>\"\n",
    "   ```\n",
    "\n",
    "1. **Push to your fork and create a pull request on GitHub.**\n",
    "\n",
    "1. **Wait for the review, and merge if everything looks good!**\n"
   ]
  },
  {
   "cell_type": "markdown",
   "metadata": {},
   "source": [
    "\n",
    "## License\n",
    "\n",
    "bioMONAI is released under the Apache 2.0 license. See [LICENSE](https://github.com/your_username/biomonai-nbs/blob/main/LICENSE) for more details.\n"
   ]
  },
  {
   "cell_type": "markdown",
   "metadata": {},
   "source": [
    "\n",
    "---\n",
    "\n",
    "## Contact\n",
    "\n",
    "If you have any questions or need further assistance, please open an issue on GitHub or contact us directly at:\n",
    "\n",
    "- Project Lead: [Biagio Mandracchia](mailto:biagio.mandracchia@uva.es)\n",
    "- Contributors: [Sara Cruz-Adrados](mailto:sara.cruz.adrados@uva.es), [Juan Pita-López](mailto:juan.pita@uva.es), [Rosa-María Menchón-Lara](mailto:rosamaria.menchon@uva.es)\n"
   ]
  }
 ],
 "metadata": {
  "kernelspec": {
   "display_name": "python3",
   "language": "python",
   "name": "python3"
  }
 },
 "nbformat": 4,
 "nbformat_minor": 4
}
